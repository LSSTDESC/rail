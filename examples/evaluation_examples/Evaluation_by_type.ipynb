{
 "cells": [
  {
   "cell_type": "code",
   "execution_count": 1,
   "metadata": {},
   "outputs": [],
   "source": [
    "import tables_io\n",
    "import qp\n",
    "import numpy as np\n",
    "\n",
    "from rail.evaluation.dist_to_dist_evaluator import DistToDistEvaluator\n",
    "from rail.evaluation.dist_to_point_evaluator import DistToPointEvaluator\n",
    "from rail.evaluation.point_to_point_evaluator import PointToPointEvaluator\n",
    "from rail.evaluation.single_evaluator import SingleEvaluator\n",
    "from rail.core.stage import RailStage\n",
    "from rail.core.data import QPHandle, TableHandle, QPOrTableHandle\n",
    "\n",
    "DS = RailStage.data_store\n",
    "DS.__class__.allow_overwrite = True"
   ]
  },
  {
   "cell_type": "markdown",
   "metadata": {},
   "source": [
    "# Load example Data"
   ]
  },
  {
   "cell_type": "code",
   "execution_count": 2,
   "metadata": {},
   "outputs": [],
   "source": [
    "import os\n",
    "from rail.core.utils import find_rail_file\n",
    "possible_local_file = './examples_data/evaluation_data/data/output_fzboost.hdf5'\n",
    "if os.path.exists(possible_local_file):\n",
    "    pdfs_file = os.path.abspath(possible_local_file)\n",
    "else:\n",
    "    pdfs_file = 'examples_data/evaluation_data/data/output_fzboost.hdf5'\n",
    "    try:\n",
    "        os.makedirs(os.path.dirname(pdfs_file))\n",
    "    except FileExistsError:\n",
    "        pass\n",
    "    curl_com = f\"curl -o {pdfs_file} https://portal.nersc.gov/cfs/lsst/PZ/output_fzboost.hdf5\"\n",
    "    os.system(curl_com)\n",
    "\n",
    "ztrue_file = find_rail_file('examples_data/testdata/test_dc2_validation_9816.hdf5')"
   ]
  },
  {
   "cell_type": "code",
   "execution_count": 3,
   "metadata": {},
   "outputs": [],
   "source": [
    "ensemble = DS.read_file(key='pdfs_data', handle_class=QPHandle, path=pdfs_file)\n",
    "ztrue_data = DS.read_file('ztrue_data', TableHandle, ztrue_file)\n",
    "#truth = DS.add_data('truth', ztrue_data()['photometry'], TableHandle, path=ztrue_file)\n",
    "#truth_points = DS.add_data('truth_points', ztrue_data()['photometry']['redshift'], TableHandle, path=ztrue_file)"
   ]
  },
  {
   "cell_type": "markdown",
   "metadata": {},
   "source": [
    "# Dist to Dist Evaluation"
   ]
  },
  {
   "cell_type": "markdown",
   "metadata": {},
   "source": [
    "The DistToDistEvaluator is for evaluating metrics that compare distributions to distributions.\n",
    "\n",
    "To test it we are going to compare a generated p(z) distribution to itself.\n",
    "\n",
    "Note that there are two modes in which this can be run.   The default mode is to allow evaluation of the metric in parallel across many nodes.   This is much faster, can avoid potential issues with overflowing the memory for huge input data sets, however, when computing quantiles or medians the computation will not be exact (however, with the default parameters it will be very close in almost all cases).  However, if the force_exact configuration variable is set, it will only run on a single node, allowing for an exact calculation, but with the drawback of being slower and more memory intensive.\n",
    "\n",
    "Here we implement both types, and compare the results."
   ]
  },
  {
   "cell_type": "code",
   "execution_count": 4,
   "metadata": {},
   "outputs": [],
   "source": [
    "stage_dict = dict(\n",
    "    metrics=['cvm', 'ks', 'rmse', 'kld', 'ad'],\n",
    "    _random_state=None,\n",
    ")\n",
    "\n",
    "dtd_stage = DistToDistEvaluator.make_stage(name='dist_to_dist', **stage_dict)\n",
    "dtd_stage_single = DistToDistEvaluator.make_stage(name='dist_to_dist', force_exact=True, **stage_dict)"
   ]
  },
  {
   "cell_type": "code",
   "execution_count": 5,
   "metadata": {},
   "outputs": [
    {
     "name": "stdout",
     "output_type": "stream",
     "text": [
      "Requested metrics: ['cvm', 'ks', 'rmse', 'kld', 'ad']\n",
      "Processing 0 running evaluator on chunk 0 - 10000.\n",
      "Inserting handle into data store.  output_dist_to_dist: inprogress_output_dist_to_dist.hdf5, dist_to_dist\n",
      "Processing 0 running evaluator on chunk 10000 - 20000.\n",
      "Processing 0 running evaluator on chunk 20000 - 20449.\n",
      "Inserting handle into data store.  summary_dist_to_dist: inprogress_summary_dist_to_dist.hdf5, dist_to_dist\n",
      "Inserting handle into data store.  single_distribution_summary_dist_to_dist: inprogress_single_distribution_summary_dist_to_dist.hdf5, dist_to_dist\n"
     ]
    },
    {
     "name": "stderr",
     "output_type": "stream",
     "text": [
      "NOTE/WARNING: Expected output file single_distribution_summary_dist_to_dist.hdf5 was not generated.\n"
     ]
    }
   ],
   "source": [
    "# Parallelized implementation\n",
    "dtd_results = dtd_stage.evaluate(ensemble, ensemble)"
   ]
  },
  {
   "cell_type": "code",
   "execution_count": 6,
   "metadata": {},
   "outputs": [
    {
     "name": "stdout",
     "output_type": "stream",
     "text": [
      "Requested metrics: ['cvm', 'ks', 'rmse', 'kld', 'ad']\n",
      "Inserting handle into data store.  output_dist_to_dist: inprogress_output_dist_to_dist.hdf5, dist_to_dist\n",
      "Inserting handle into data store.  summary_dist_to_dist: inprogress_summary_dist_to_dist.hdf5, dist_to_dist\n",
      "Inserting handle into data store.  single_distribution_summary_dist_to_dist: inprogress_single_distribution_summary_dist_to_dist.hdf5, dist_to_dist\n"
     ]
    },
    {
     "name": "stderr",
     "output_type": "stream",
     "text": [
      "NOTE/WARNING: Expected output file single_distribution_summary_dist_to_dist.hdf5 was not generated.\n"
     ]
    }
   ],
   "source": [
    "# Non-parallelized, exact implementation\n",
    "dtd_results_single = dtd_stage_single.evaluate(ensemble, ensemble)"
   ]
  },
  {
   "cell_type": "markdown",
   "metadata": {},
   "source": [
    "Here we compare the output data tables.  "
   ]
  },
  {
   "cell_type": "code",
   "execution_count": 7,
   "metadata": {},
   "outputs": [
    {
     "data": {
      "text/html": [
       "<div>\n",
       "<style scoped>\n",
       "    .dataframe tbody tr th:only-of-type {\n",
       "        vertical-align: middle;\n",
       "    }\n",
       "\n",
       "    .dataframe tbody tr th {\n",
       "        vertical-align: top;\n",
       "    }\n",
       "\n",
       "    .dataframe thead th {\n",
       "        text-align: right;\n",
       "    }\n",
       "</style>\n",
       "<table border=\"1\" class=\"dataframe\">\n",
       "  <thead>\n",
       "    <tr style=\"text-align: right;\">\n",
       "      <th></th>\n",
       "      <th>ad</th>\n",
       "      <th>cvm</th>\n",
       "      <th>kld</th>\n",
       "      <th>ks</th>\n",
       "      <th>rmse</th>\n",
       "    </tr>\n",
       "  </thead>\n",
       "  <tbody>\n",
       "    <tr>\n",
       "      <th>0</th>\n",
       "      <td>1.560647</td>\n",
       "      <td>0.121623</td>\n",
       "      <td>0.0</td>\n",
       "      <td>0.131325</td>\n",
       "      <td>0.0</td>\n",
       "    </tr>\n",
       "    <tr>\n",
       "      <th>1</th>\n",
       "      <td>0.818393</td>\n",
       "      <td>0.104253</td>\n",
       "      <td>0.0</td>\n",
       "      <td>0.126633</td>\n",
       "      <td>0.0</td>\n",
       "    </tr>\n",
       "    <tr>\n",
       "      <th>2</th>\n",
       "      <td>1.506214</td>\n",
       "      <td>0.073123</td>\n",
       "      <td>0.0</td>\n",
       "      <td>0.060202</td>\n",
       "      <td>0.0</td>\n",
       "    </tr>\n",
       "    <tr>\n",
       "      <th>3</th>\n",
       "      <td>0.436833</td>\n",
       "      <td>0.035073</td>\n",
       "      <td>0.0</td>\n",
       "      <td>0.103064</td>\n",
       "      <td>0.0</td>\n",
       "    </tr>\n",
       "    <tr>\n",
       "      <th>4</th>\n",
       "      <td>0.294427</td>\n",
       "      <td>0.238308</td>\n",
       "      <td>0.0</td>\n",
       "      <td>0.070398</td>\n",
       "      <td>0.0</td>\n",
       "    </tr>\n",
       "    <tr>\n",
       "      <th>...</th>\n",
       "      <td>...</td>\n",
       "      <td>...</td>\n",
       "      <td>...</td>\n",
       "      <td>...</td>\n",
       "      <td>...</td>\n",
       "    </tr>\n",
       "    <tr>\n",
       "      <th>20444</th>\n",
       "      <td>1.798028</td>\n",
       "      <td>0.471777</td>\n",
       "      <td>0.0</td>\n",
       "      <td>0.091265</td>\n",
       "      <td>0.0</td>\n",
       "    </tr>\n",
       "    <tr>\n",
       "      <th>20445</th>\n",
       "      <td>0.487682</td>\n",
       "      <td>0.183045</td>\n",
       "      <td>0.0</td>\n",
       "      <td>0.094580</td>\n",
       "      <td>0.0</td>\n",
       "    </tr>\n",
       "    <tr>\n",
       "      <th>20446</th>\n",
       "      <td>1.049231</td>\n",
       "      <td>0.560374</td>\n",
       "      <td>0.0</td>\n",
       "      <td>0.093545</td>\n",
       "      <td>0.0</td>\n",
       "    </tr>\n",
       "    <tr>\n",
       "      <th>20447</th>\n",
       "      <td>0.708184</td>\n",
       "      <td>0.131500</td>\n",
       "      <td>0.0</td>\n",
       "      <td>0.094907</td>\n",
       "      <td>0.0</td>\n",
       "    </tr>\n",
       "    <tr>\n",
       "      <th>20448</th>\n",
       "      <td>1.698391</td>\n",
       "      <td>0.052419</td>\n",
       "      <td>0.0</td>\n",
       "      <td>0.065732</td>\n",
       "      <td>0.0</td>\n",
       "    </tr>\n",
       "  </tbody>\n",
       "</table>\n",
       "<p>20449 rows × 5 columns</p>\n",
       "</div>"
      ],
      "text/plain": [
       "             ad       cvm  kld        ks  rmse\n",
       "0      1.560647  0.121623  0.0  0.131325   0.0\n",
       "1      0.818393  0.104253  0.0  0.126633   0.0\n",
       "2      1.506214  0.073123  0.0  0.060202   0.0\n",
       "3      0.436833  0.035073  0.0  0.103064   0.0\n",
       "4      0.294427  0.238308  0.0  0.070398   0.0\n",
       "...         ...       ...  ...       ...   ...\n",
       "20444  1.798028  0.471777  0.0  0.091265   0.0\n",
       "20445  0.487682  0.183045  0.0  0.094580   0.0\n",
       "20446  1.049231  0.560374  0.0  0.093545   0.0\n",
       "20447  0.708184  0.131500  0.0  0.094907   0.0\n",
       "20448  1.698391  0.052419  0.0  0.065732   0.0\n",
       "\n",
       "[20449 rows x 5 columns]"
      ]
     },
     "execution_count": 7,
     "metadata": {},
     "output_type": "execute_result"
    }
   ],
   "source": [
    "results_df = tables_io.convertObj(dtd_results['output'](), tables_io.types.PD_DATAFRAME)\n",
    "results_df_single = tables_io.convertObj(dtd_results_single['output'](), tables_io.types.PD_DATAFRAME)\n",
    "results_df"
   ]
  },
  {
   "cell_type": "code",
   "execution_count": 8,
   "metadata": {},
   "outputs": [
    {
     "data": {
      "text/html": [
       "<div>\n",
       "<style scoped>\n",
       "    .dataframe tbody tr th:only-of-type {\n",
       "        vertical-align: middle;\n",
       "    }\n",
       "\n",
       "    .dataframe tbody tr th {\n",
       "        vertical-align: top;\n",
       "    }\n",
       "\n",
       "    .dataframe thead th {\n",
       "        text-align: right;\n",
       "    }\n",
       "</style>\n",
       "<table border=\"1\" class=\"dataframe\">\n",
       "  <thead>\n",
       "    <tr style=\"text-align: right;\">\n",
       "      <th></th>\n",
       "      <th>cvm</th>\n",
       "      <th>ks</th>\n",
       "      <th>rmse</th>\n",
       "      <th>kld</th>\n",
       "      <th>ad</th>\n",
       "    </tr>\n",
       "  </thead>\n",
       "  <tbody>\n",
       "    <tr>\n",
       "      <th>0</th>\n",
       "      <td>0.121623</td>\n",
       "      <td>0.131325</td>\n",
       "      <td>0.0</td>\n",
       "      <td>0.0</td>\n",
       "      <td>1.560647</td>\n",
       "    </tr>\n",
       "    <tr>\n",
       "      <th>1</th>\n",
       "      <td>0.104253</td>\n",
       "      <td>0.126633</td>\n",
       "      <td>0.0</td>\n",
       "      <td>0.0</td>\n",
       "      <td>0.818393</td>\n",
       "    </tr>\n",
       "    <tr>\n",
       "      <th>2</th>\n",
       "      <td>0.073123</td>\n",
       "      <td>0.060202</td>\n",
       "      <td>0.0</td>\n",
       "      <td>0.0</td>\n",
       "      <td>1.506214</td>\n",
       "    </tr>\n",
       "    <tr>\n",
       "      <th>3</th>\n",
       "      <td>0.035073</td>\n",
       "      <td>0.103064</td>\n",
       "      <td>0.0</td>\n",
       "      <td>0.0</td>\n",
       "      <td>0.436833</td>\n",
       "    </tr>\n",
       "    <tr>\n",
       "      <th>4</th>\n",
       "      <td>0.238308</td>\n",
       "      <td>0.070398</td>\n",
       "      <td>0.0</td>\n",
       "      <td>0.0</td>\n",
       "      <td>0.294427</td>\n",
       "    </tr>\n",
       "    <tr>\n",
       "      <th>...</th>\n",
       "      <td>...</td>\n",
       "      <td>...</td>\n",
       "      <td>...</td>\n",
       "      <td>...</td>\n",
       "      <td>...</td>\n",
       "    </tr>\n",
       "    <tr>\n",
       "      <th>20444</th>\n",
       "      <td>0.471777</td>\n",
       "      <td>0.091265</td>\n",
       "      <td>0.0</td>\n",
       "      <td>0.0</td>\n",
       "      <td>1.798028</td>\n",
       "    </tr>\n",
       "    <tr>\n",
       "      <th>20445</th>\n",
       "      <td>0.183045</td>\n",
       "      <td>0.094580</td>\n",
       "      <td>0.0</td>\n",
       "      <td>0.0</td>\n",
       "      <td>0.487682</td>\n",
       "    </tr>\n",
       "    <tr>\n",
       "      <th>20446</th>\n",
       "      <td>0.560374</td>\n",
       "      <td>0.093545</td>\n",
       "      <td>0.0</td>\n",
       "      <td>0.0</td>\n",
       "      <td>1.049231</td>\n",
       "    </tr>\n",
       "    <tr>\n",
       "      <th>20447</th>\n",
       "      <td>0.131500</td>\n",
       "      <td>0.094907</td>\n",
       "      <td>0.0</td>\n",
       "      <td>0.0</td>\n",
       "      <td>0.708184</td>\n",
       "    </tr>\n",
       "    <tr>\n",
       "      <th>20448</th>\n",
       "      <td>0.052419</td>\n",
       "      <td>0.065732</td>\n",
       "      <td>0.0</td>\n",
       "      <td>0.0</td>\n",
       "      <td>1.698391</td>\n",
       "    </tr>\n",
       "  </tbody>\n",
       "</table>\n",
       "<p>20449 rows × 5 columns</p>\n",
       "</div>"
      ],
      "text/plain": [
       "            cvm        ks  rmse  kld        ad\n",
       "0      0.121623  0.131325   0.0  0.0  1.560647\n",
       "1      0.104253  0.126633   0.0  0.0  0.818393\n",
       "2      0.073123  0.060202   0.0  0.0  1.506214\n",
       "3      0.035073  0.103064   0.0  0.0  0.436833\n",
       "4      0.238308  0.070398   0.0  0.0  0.294427\n",
       "...         ...       ...   ...  ...       ...\n",
       "20444  0.471777  0.091265   0.0  0.0  1.798028\n",
       "20445  0.183045  0.094580   0.0  0.0  0.487682\n",
       "20446  0.560374  0.093545   0.0  0.0  1.049231\n",
       "20447  0.131500  0.094907   0.0  0.0  0.708184\n",
       "20448  0.052419  0.065732   0.0  0.0  1.698391\n",
       "\n",
       "[20449 rows x 5 columns]"
      ]
     },
     "execution_count": 8,
     "metadata": {},
     "output_type": "execute_result"
    }
   ],
   "source": [
    "results_df_single"
   ]
  },
  {
   "cell_type": "markdown",
   "metadata": {},
   "source": [
    "# Dist to Point Evaluation"
   ]
  },
  {
   "cell_type": "markdown",
   "metadata": {},
   "source": [
    "The DistToPointEvaluator is for evaluating metrics that compare distributions (for the p(z)) estimate to point values (for the reference or truth).\n",
    "\n",
    "To test it we are going to compare a generated p(z) distribution to true redshifts.\n",
    "\n",
    "Note that as for the DistToDistEvaluator this can be run in parallel or forced to run on a single node for exact results."
   ]
  },
  {
   "cell_type": "code",
   "execution_count": 9,
   "metadata": {},
   "outputs": [],
   "source": [
    "stage_dict = dict(\n",
    "    metrics=['cdeloss', 'pit', 'brier'],\n",
    "    _random_state=None,\n",
    "    metric_config={\n",
    "        'brier': {'limits':(0,3.1)},\n",
    "        'pit':{'tdigest_compression': 1000},\n",
    "    }\n",
    ")\n",
    "dtp_stage = DistToPointEvaluator.make_stage(name='dist_to_point', **stage_dict)\n",
    "dtp_stage_single = DistToPointEvaluator.make_stage(name='dist_to_point', force_exact=True, **stage_dict)"
   ]
  },
  {
   "cell_type": "code",
   "execution_count": 10,
   "metadata": {},
   "outputs": [
    {
     "name": "stdout",
     "output_type": "stream",
     "text": [
      "Requested metrics: ['cdeloss', 'pit', 'brier']\n",
      "Processing 0 running evaluator on chunk 0 - 10000.\n"
     ]
    },
    {
     "name": "stderr",
     "output_type": "stream",
     "text": [
      "WARNING:root:Input predictions do not sum to 1.\n"
     ]
    },
    {
     "name": "stdout",
     "output_type": "stream",
     "text": [
      "Inserting handle into data store.  output_dist_to_point: inprogress_output_dist_to_point.hdf5, dist_to_point\n",
      "Processing 0 running evaluator on chunk 10000 - 20000.\n"
     ]
    },
    {
     "name": "stderr",
     "output_type": "stream",
     "text": [
      "WARNING:root:Input predictions do not sum to 1.\n",
      "WARNING:root:Input predictions do not sum to 1.\n"
     ]
    },
    {
     "name": "stdout",
     "output_type": "stream",
     "text": [
      "Processing 0 running evaluator on chunk 20000 - 20449.\n",
      "Inserting handle into data store.  summary_dist_to_point: inprogress_summary_dist_to_point.hdf5, dist_to_point\n",
      "Inserting handle into data store.  single_distribution_summary_dist_to_point: inprogress_single_distribution_summary_dist_to_point.hdf5, dist_to_point\n",
      "Warning.  Failed to convert column No conversion path for dtype: dtype('<U16')\n"
     ]
    },
    {
     "data": {
      "text/html": [
       "<div>\n",
       "<style scoped>\n",
       "    .dataframe tbody tr th:only-of-type {\n",
       "        vertical-align: middle;\n",
       "    }\n",
       "\n",
       "    .dataframe tbody tr th {\n",
       "        vertical-align: top;\n",
       "    }\n",
       "\n",
       "    .dataframe thead th {\n",
       "        text-align: right;\n",
       "    }\n",
       "</style>\n",
       "<table border=\"1\" class=\"dataframe\">\n",
       "  <thead>\n",
       "    <tr style=\"text-align: right;\">\n",
       "      <th></th>\n",
       "      <th>cdeloss</th>\n",
       "      <th>brier</th>\n",
       "    </tr>\n",
       "  </thead>\n",
       "  <tbody>\n",
       "    <tr>\n",
       "      <th>0</th>\n",
       "      <td>-6.751813</td>\n",
       "      <td>732.133867</td>\n",
       "    </tr>\n",
       "  </tbody>\n",
       "</table>\n",
       "</div>"
      ],
      "text/plain": [
       "    cdeloss       brier\n",
       "0 -6.751813  732.133867"
      ]
     },
     "execution_count": 10,
     "metadata": {},
     "output_type": "execute_result"
    }
   ],
   "source": [
    "dtp_results = dtp_stage.evaluate(ensemble, ztrue_data)\n",
    "results_df = tables_io.convertObj(dtp_results['summary'](), tables_io.types.PD_DATAFRAME)\n",
    "\n",
    "dtp_pit = dtp_stage.get_handle('single_distribution_summary').read()['pit']\n",
    "results_df"
   ]
  },
  {
   "cell_type": "code",
   "execution_count": 11,
   "metadata": {},
   "outputs": [
    {
     "name": "stdout",
     "output_type": "stream",
     "text": [
      "Requested metrics: ['cdeloss', 'pit', 'brier']\n"
     ]
    },
    {
     "name": "stderr",
     "output_type": "stream",
     "text": [
      "WARNING:root:Input predictions do not sum to 1.\n"
     ]
    },
    {
     "name": "stdout",
     "output_type": "stream",
     "text": [
      "Inserting handle into data store.  output_dist_to_point: inprogress_output_dist_to_point.hdf5, dist_to_point\n",
      "Inserting handle into data store.  summary_dist_to_point: inprogress_summary_dist_to_point.hdf5, dist_to_point\n",
      "Inserting handle into data store.  single_distribution_summary_dist_to_point: inprogress_single_distribution_summary_dist_to_point.hdf5, dist_to_point\n",
      "Warning.  Failed to convert column No conversion path for dtype: dtype('<U16')\n"
     ]
    },
    {
     "data": {
      "text/html": [
       "<div>\n",
       "<style scoped>\n",
       "    .dataframe tbody tr th:only-of-type {\n",
       "        vertical-align: middle;\n",
       "    }\n",
       "\n",
       "    .dataframe tbody tr th {\n",
       "        vertical-align: top;\n",
       "    }\n",
       "\n",
       "    .dataframe thead th {\n",
       "        text-align: right;\n",
       "    }\n",
       "</style>\n",
       "<table border=\"1\" class=\"dataframe\">\n",
       "  <thead>\n",
       "    <tr style=\"text-align: right;\">\n",
       "      <th></th>\n",
       "      <th>cdeloss</th>\n",
       "      <th>brier</th>\n",
       "    </tr>\n",
       "  </thead>\n",
       "  <tbody>\n",
       "    <tr>\n",
       "      <th>0</th>\n",
       "      <td>-6.751813</td>\n",
       "      <td>732.133867</td>\n",
       "    </tr>\n",
       "  </tbody>\n",
       "</table>\n",
       "</div>"
      ],
      "text/plain": [
       "    cdeloss       brier\n",
       "0 -6.751813  732.133867"
      ]
     },
     "execution_count": 11,
     "metadata": {},
     "output_type": "execute_result"
    }
   ],
   "source": [
    "dtp_results_single = dtp_stage_single.evaluate(ensemble, ztrue_data)\n",
    "results_df_single = tables_io.convertObj(dtp_results_single['summary'](), tables_io.types.PD_DATAFRAME)\n",
    "\n",
    "dtp_pit_single = dtp_stage_single.get_handle('single_distribution_summary').read()['pit']\n",
    "results_df_single"
   ]
  },
  {
   "cell_type": "code",
   "execution_count": 12,
   "metadata": {},
   "outputs": [
    {
     "data": {
      "image/png": "[encoded data removed]",
      "text/plain": [
       "<Figure size 640x480 with 1 Axes>"
      ]
     },
     "metadata": {},
     "output_type": "display_data"
    }
   ],
   "source": [
    "import matplotlib.pyplot as plt\n",
    "\n",
    "xgrid = np.linspace(0.05,0.95,100)\n",
    "a_pdf = dtp_pit.pdf(xgrid)\n",
    "b_pdf = dtp_pit_single.pdf(xgrid)\n",
    "\n",
    "plt.figure()\n",
    "plt.plot(xgrid, np.squeeze(a_pdf), label='parallelized, tdigest approximation')\n",
    "plt.plot(xgrid, np.squeeze(b_pdf), label='non-parallelized, exact')\n",
    "plt.legend()\n",
    "plt.show()"
   ]
  },
  {
   "cell_type": "markdown",
   "metadata": {},
   "source": [
    "# Point to Point Evaluation"
   ]
  },
  {
   "cell_type": "markdown",
   "metadata": {},
   "source": [
    "The {pomtToPointEvaluator is for evaluating metrics that compare point estimates (for the p(z)) to point values (for the reference or truth).\n",
    "\n",
    "To test it we are going to compare the mode of p(z) distribution to true redshifts.\n",
    "\n",
    "Note that as for the DistToDistEvaluator this can be run in parallel or forced to run on a single node for exact results."
   ]
  },
  {
   "cell_type": "code",
   "execution_count": 13,
   "metadata": {},
   "outputs": [],
   "source": [
    "stage_dict = dict(\n",
    "    metrics=['point_stats_ez', 'point_stats_iqr', 'point_bias', 'point_outlier_rate', 'point_stats_sigma_mad'],\n",
    "    _random_state=None,\n",
    "    hdf5_groupname='photometry',\n",
    "    point_estimate_key='zmode',\n",
    "    chunk_size=10000,\n",
    "    metric_config={\n",
    "        'point_stats_iqr':{'tdigest_compression': 100},\n",
    "    }\n",
    ")\n",
    "ptp_stage = PointToPointEvaluator.make_stage(name='point_to_point', **stage_dict)\n",
    "ptp_stage_single = PointToPointEvaluator.make_stage(name='point_to_point', force_exact=True, **stage_dict)"
   ]
  },
  {
   "cell_type": "code",
   "execution_count": 14,
   "metadata": {},
   "outputs": [
    {
     "name": "stdout",
     "output_type": "stream",
     "text": [
      "Requested metrics: ['point_stats_ez', 'point_stats_iqr', 'point_bias', 'point_outlier_rate', 'point_stats_sigma_mad']\n",
      "Processing 0 running evaluator on chunk 0 - 10000.\n",
      "Inserting handle into data store.  output_point_to_point: inprogress_output_point_to_point.hdf5, point_to_point\n",
      "Processing 0 running evaluator on chunk 10000 - 20000.\n",
      "Processing 0 running evaluator on chunk 20000 - 20449.\n",
      "Inserting handle into data store.  summary_point_to_point: inprogress_summary_point_to_point.hdf5, point_to_point\n",
      "Inserting handle into data store.  single_distribution_summary_point_to_point: inprogress_single_distribution_summary_point_to_point.hdf5, point_to_point\n"
     ]
    },
    {
     "name": "stderr",
     "output_type": "stream",
     "text": [
      "NOTE/WARNING: Expected output file single_distribution_summary_point_to_point.hdf5 was not generated.\n"
     ]
    },
    {
     "data": {
      "text/html": [
       "<div>\n",
       "<style scoped>\n",
       "    .dataframe tbody tr th:only-of-type {\n",
       "        vertical-align: middle;\n",
       "    }\n",
       "\n",
       "    .dataframe tbody tr th {\n",
       "        vertical-align: top;\n",
       "    }\n",
       "\n",
       "    .dataframe thead th {\n",
       "        text-align: right;\n",
       "    }\n",
       "</style>\n",
       "<table border=\"1\" class=\"dataframe\">\n",
       "  <thead>\n",
       "    <tr style=\"text-align: right;\">\n",
       "      <th></th>\n",
       "      <th>point_stats_iqr</th>\n",
       "      <th>point_bias</th>\n",
       "      <th>point_outlier_rate</th>\n",
       "      <th>point_stats_sigma_mad</th>\n",
       "    </tr>\n",
       "  </thead>\n",
       "  <tbody>\n",
       "    <tr>\n",
       "      <th>0</th>\n",
       "      <td>0.021287</td>\n",
       "      <td>0.000208</td>\n",
       "      <td>0.107829</td>\n",
       "      <td>0.020918</td>\n",
       "    </tr>\n",
       "  </tbody>\n",
       "</table>\n",
       "</div>"
      ],
      "text/plain": [
       "   point_stats_iqr  point_bias  point_outlier_rate  point_stats_sigma_mad\n",
       "0         0.021287    0.000208            0.107829               0.020918"
      ]
     },
     "execution_count": 14,
     "metadata": {},
     "output_type": "execute_result"
    }
   ],
   "source": [
    "ptp_results = ptp_stage.evaluate(ensemble, ztrue_data)\n",
    "results_summary = tables_io.convertObj(ptp_stage.get_handle('summary')(), tables_io.types.PD_DATAFRAME)\n",
    "results_summary"
   ]
  },
  {
   "cell_type": "code",
   "execution_count": 15,
   "metadata": {},
   "outputs": [
    {
     "name": "stdout",
     "output_type": "stream",
     "text": [
      "Requested metrics: ['point_stats_ez', 'point_stats_iqr', 'point_bias', 'point_outlier_rate', 'point_stats_sigma_mad']\n",
      "Inserting handle into data store.  output_point_to_point: inprogress_output_point_to_point.hdf5, point_to_point\n",
      "Inserting handle into data store.  summary_point_to_point: inprogress_summary_point_to_point.hdf5, point_to_point\n",
      "Inserting handle into data store.  single_distribution_summary_point_to_point: inprogress_single_distribution_summary_point_to_point.hdf5, point_to_point\n"
     ]
    },
    {
     "name": "stderr",
     "output_type": "stream",
     "text": [
      "NOTE/WARNING: Expected output file single_distribution_summary_point_to_point.hdf5 was not generated.\n"
     ]
    },
    {
     "data": {
      "text/html": [
       "<div>\n",
       "<style scoped>\n",
       "    .dataframe tbody tr th:only-of-type {\n",
       "        vertical-align: middle;\n",
       "    }\n",
       "\n",
       "    .dataframe tbody tr th {\n",
       "        vertical-align: top;\n",
       "    }\n",
       "\n",
       "    .dataframe thead th {\n",
       "        text-align: right;\n",
       "    }\n",
       "</style>\n",
       "<table border=\"1\" class=\"dataframe\">\n",
       "  <thead>\n",
       "    <tr style=\"text-align: right;\">\n",
       "      <th></th>\n",
       "      <th>point_stats_iqr</th>\n",
       "      <th>point_bias</th>\n",
       "      <th>point_outlier_rate</th>\n",
       "      <th>point_stats_sigma_mad</th>\n",
       "    </tr>\n",
       "  </thead>\n",
       "  <tbody>\n",
       "    <tr>\n",
       "      <th>0</th>\n",
       "      <td>0.020847</td>\n",
       "      <td>0.000266</td>\n",
       "      <td>0.107096</td>\n",
       "      <td>0.020865</td>\n",
       "    </tr>\n",
       "  </tbody>\n",
       "</table>\n",
       "</div>"
      ],
      "text/plain": [
       "   point_stats_iqr  point_bias  point_outlier_rate  point_stats_sigma_mad\n",
       "0         0.020847    0.000266            0.107096               0.020865"
      ]
     },
     "execution_count": 15,
     "metadata": {},
     "output_type": "execute_result"
    }
   ],
   "source": [
    "ptp_results_single = ptp_stage_single.evaluate(ensemble, ztrue_data)\n",
    "results_summary_single = tables_io.convertObj(ptp_stage_single.get_handle('summary')(), tables_io.types.PD_DATAFRAME)\n",
    "results_summary_single"
   ]
  },
  {
   "cell_type": "markdown",
   "metadata": {},
   "source": [
    "Above we see the effect of the approximation used when running in parallel.  Here we are to do the computation in qp to confirm the exact value is correct."
   ]
  },
  {
   "cell_type": "code",
   "execution_count": 16,
   "metadata": {},
   "outputs": [],
   "source": [
    "truth = ztrue_data()['photometry']['redshift']\n",
    "estimates = np.squeeze(ensemble().ancil['zmode'])\n",
    "#truth_points = DS.add_data('truth_points', ztrue_data()['photometry']['redshift'], TableHandle, path=ztrue_file)"
   ]
  },
  {
   "cell_type": "code",
   "execution_count": 17,
   "metadata": {},
   "outputs": [],
   "source": [
    "check_iqr = qp.metrics.point_estimate_metric_classes.PointSigmaIQR().evaluate(estimates, truth)"
   ]
  },
  {
   "cell_type": "code",
   "execution_count": 18,
   "metadata": {},
   "outputs": [
    {
     "data": {
      "text/plain": [
       "0.02084700447796729"
      ]
     },
     "execution_count": 18,
     "metadata": {},
     "output_type": "execute_result"
    }
   ],
   "source": [
    "check_iqr"
   ]
  },
  {
   "cell_type": "markdown",
   "metadata": {},
   "source": [
    "### Setting up a RailPipeline with an evaluation stage"
   ]
  },
  {
   "cell_type": "code",
   "execution_count": 19,
   "metadata": {},
   "outputs": [],
   "source": [
    "inputs = {\n",
    "    'pdfs_data':'examples_data/evaluation_data/data/output_fzboost.hdf5',\n",
    "    'ztrue_data':'examples_data/test_dc2_validation_9816.hdf5',\n",
    "}\n",
    "outputs = {\n",
    "    'output':'output.hdf5',\n",
    "    'summary':'summary.hdf5',\n",
    "}"
   ]
  },
  {
   "cell_type": "code",
   "execution_count": 20,
   "metadata": {},
   "outputs": [],
   "source": [
    "from rail.core import RailPipeline"
   ]
  },
  {
   "cell_type": "code",
   "execution_count": 21,
   "metadata": {},
   "outputs": [],
   "source": [
    "pipe = RailPipeline()"
   ]
  },
  {
   "cell_type": "code",
   "execution_count": 22,
   "metadata": {},
   "outputs": [
    {
     "data": {
      "text/plain": [
       "{'output_point_to_point': './output_point_to_point.hdf5',\n",
       " 'summary_point_to_point': './summary_point_to_point.hdf5',\n",
       " 'single_distribution_summary_point_to_point': './single_distribution_summary_point_to_point.hdf5'}"
      ]
     },
     "execution_count": 22,
     "metadata": {},
     "output_type": "execute_result"
    }
   ],
   "source": [
    "pipe.add_stage(ptp_stage)"
   ]
  },
  {
   "cell_type": "code",
   "execution_count": 23,
   "metadata": {},
   "outputs": [
    {
     "data": {
      "text/plain": [
       "(({'point_to_point': <Job point_to_point>},\n",
       "  [<rail.evaluation.point_to_point_evaluator.PointToPointEvaluator at 0x17fd22290>]),\n",
       " {'output_dir': '.', 'log_dir': '.', 'resume': False})"
      ]
     },
     "execution_count": 23,
     "metadata": {},
     "output_type": "execute_result"
    }
   ],
   "source": [
    "pipe.initialize(overall_inputs=inputs, run_config={'output_dir':'.', 'log_dir':'.', 'resume':False}, stages_config=None)"
   ]
  },
  {
   "cell_type": "code",
   "execution_count": 24,
   "metadata": {},
   "outputs": [],
   "source": [
    "pipe.save('eval_pipe.yaml')"
   ]
  },
  {
   "cell_type": "markdown",
   "metadata": {},
   "source": [
    "## Single Evaluator"
   ]
  },
  {
   "cell_type": "markdown",
   "metadata": {},
   "source": [
    "The SingletEvaluator is will computate all of the metrics that it can for the inputs that it is given.\n",
    "\n",
    "It will check to see if the estimate and reference inputs are point estimates or distributions, (or potentially both, e.g., if the use asks to use the mode or median of the distribution as a point estimate.)\n",
    "\n",
    "To test it we are going to compare a generated p(z) distribution to true redshifts.\n",
    "\n",
    "Note that as for the DistToDistEvaluator this can be run in parallel or forced to run on a single node for exact results."
   ]
  },
  {
   "cell_type": "code",
   "execution_count": 25,
   "metadata": {},
   "outputs": [],
   "source": [
    "stage_dict = dict(\n",
    "    metrics=['cvm', 'ks', 'omega', 'kld', 'cdeloss', 'point_stats_ez', 'point_stats_iqr'],\n",
    "    _random_state=None,\n",
    "    hdf5_groupname='photometry',\n",
    "    point_estimates=['zmode'],\n",
    "    truth_point_estimates=['redshift'],\n",
    "    chunk_size=1000,\n",
    ")\n",
    "ensemble_d = DS.add_data('pdfs_data_2', None, QPOrTableHandle, path=pdfs_file)\n",
    "ztrue_data_d = DS.add_data('ztrue_data_2', None, QPOrTableHandle, path=ztrue_file)\n",
    "\n",
    "single_stage = SingleEvaluator.make_stage(name='single', **stage_dict)\n",
    "single_stage_single = SingleEvaluator.make_stage(name='single', force_exact=True, **stage_dict)"
   ]
  },
  {
   "cell_type": "code",
   "execution_count": 26,
   "metadata": {},
   "outputs": [
    {
     "name": "stdout",
     "output_type": "stream",
     "text": [
      "This is not a qp file because 'meta'\n",
      "This is not a qp file because 'meta'\n",
      "Unsupported metric requested: 'omega'.  Available metrics are: ['ad', 'brier', 'cdeloss', 'cvm', 'kld', 'ks', 'moment', 'outlier', 'pit', 'point_bias', 'point_outlier_rate', 'point_stats_ez', 'point_stats_iqr', 'point_stats_sigma_mad', 'rbpe', 'rmse']\n",
      "Requested metrics: ['cvm', 'ks', 'kld', 'cdeloss', 'point_stats_ez', 'point_stats_iqr']\n",
      "This is not a qp file because 'meta'\n",
      "This is not a qp file because 'meta'\n",
      "This is not a qp file because 'meta'\n",
      "Processing 0 running evaluator on chunk 0 - 1000.\n",
      "skipping cvm PdfOrValue.both MetricInputType.dist_to_dist\n",
      "skipping ks PdfOrValue.both MetricInputType.dist_to_dist\n",
      "skipping kld PdfOrValue.both MetricInputType.dist_to_dist\n",
      "Inserting handle into data store.  output_single: inprogress_output_single.hdf5, single\n",
      "Processing 0 running evaluator on chunk 1000 - 2000.\n",
      "skipping cvm PdfOrValue.both MetricInputType.dist_to_dist\n",
      "skipping ks PdfOrValue.both MetricInputType.dist_to_dist\n",
      "skipping kld PdfOrValue.both MetricInputType.dist_to_dist\n",
      "Processing 0 running evaluator on chunk 2000 - 3000.\n",
      "skipping cvm PdfOrValue.both MetricInputType.dist_to_dist\n",
      "skipping ks PdfOrValue.both MetricInputType.dist_to_dist\n",
      "skipping kld PdfOrValue.both MetricInputType.dist_to_dist\n",
      "Processing 0 running evaluator on chunk 3000 - 4000.\n",
      "skipping cvm PdfOrValue.both MetricInputType.dist_to_dist\n",
      "skipping ks PdfOrValue.both MetricInputType.dist_to_dist\n",
      "skipping kld PdfOrValue.both MetricInputType.dist_to_dist\n",
      "Processing 0 running evaluator on chunk 4000 - 5000.\n",
      "skipping cvm PdfOrValue.both MetricInputType.dist_to_dist\n",
      "skipping ks PdfOrValue.both MetricInputType.dist_to_dist\n",
      "skipping kld PdfOrValue.both MetricInputType.dist_to_dist\n",
      "Processing 0 running evaluator on chunk 5000 - 6000.\n",
      "skipping cvm PdfOrValue.both MetricInputType.dist_to_dist\n",
      "skipping ks PdfOrValue.both MetricInputType.dist_to_dist\n",
      "skipping kld PdfOrValue.both MetricInputType.dist_to_dist\n",
      "Processing 0 running evaluator on chunk 6000 - 7000.\n",
      "skipping cvm PdfOrValue.both MetricInputType.dist_to_dist\n",
      "skipping ks PdfOrValue.both MetricInputType.dist_to_dist\n",
      "skipping kld PdfOrValue.both MetricInputType.dist_to_dist\n",
      "Processing 0 running evaluator on chunk 7000 - 8000.\n",
      "skipping cvm PdfOrValue.both MetricInputType.dist_to_dist\n",
      "skipping ks PdfOrValue.both MetricInputType.dist_to_dist\n",
      "skipping kld PdfOrValue.both MetricInputType.dist_to_dist\n",
      "Processing 0 running evaluator on chunk 8000 - 9000.\n",
      "skipping cvm PdfOrValue.both MetricInputType.dist_to_dist\n",
      "skipping ks PdfOrValue.both MetricInputType.dist_to_dist\n",
      "skipping kld PdfOrValue.both MetricInputType.dist_to_dist\n",
      "Processing 0 running evaluator on chunk 9000 - 10000.\n",
      "skipping cvm PdfOrValue.both MetricInputType.dist_to_dist\n",
      "skipping ks PdfOrValue.both MetricInputType.dist_to_dist\n",
      "skipping kld PdfOrValue.both MetricInputType.dist_to_dist\n",
      "Processing 0 running evaluator on chunk 10000 - 11000.\n",
      "skipping cvm PdfOrValue.both MetricInputType.dist_to_dist\n",
      "skipping ks PdfOrValue.both MetricInputType.dist_to_dist\n",
      "skipping kld PdfOrValue.both MetricInputType.dist_to_dist\n",
      "Processing 0 running evaluator on chunk 11000 - 12000.\n",
      "skipping cvm PdfOrValue.both MetricInputType.dist_to_dist\n",
      "skipping ks PdfOrValue.both MetricInputType.dist_to_dist\n",
      "skipping kld PdfOrValue.both MetricInputType.dist_to_dist\n",
      "Processing 0 running evaluator on chunk 12000 - 13000.\n",
      "skipping cvm PdfOrValue.both MetricInputType.dist_to_dist\n",
      "skipping ks PdfOrValue.both MetricInputType.dist_to_dist\n",
      "skipping kld PdfOrValue.both MetricInputType.dist_to_dist\n",
      "Processing 0 running evaluator on chunk 13000 - 14000.\n",
      "skipping cvm PdfOrValue.both MetricInputType.dist_to_dist\n",
      "skipping ks PdfOrValue.both MetricInputType.dist_to_dist\n",
      "skipping kld PdfOrValue.both MetricInputType.dist_to_dist\n",
      "Processing 0 running evaluator on chunk 14000 - 15000.\n",
      "skipping cvm PdfOrValue.both MetricInputType.dist_to_dist\n",
      "skipping ks PdfOrValue.both MetricInputType.dist_to_dist\n",
      "skipping kld PdfOrValue.both MetricInputType.dist_to_dist\n",
      "Processing 0 running evaluator on chunk 15000 - 16000.\n",
      "skipping cvm PdfOrValue.both MetricInputType.dist_to_dist\n",
      "skipping ks PdfOrValue.both MetricInputType.dist_to_dist\n",
      "skipping kld PdfOrValue.both MetricInputType.dist_to_dist\n",
      "Processing 0 running evaluator on chunk 16000 - 17000.\n",
      "skipping cvm PdfOrValue.both MetricInputType.dist_to_dist\n",
      "skipping ks PdfOrValue.both MetricInputType.dist_to_dist\n",
      "skipping kld PdfOrValue.both MetricInputType.dist_to_dist\n",
      "Processing 0 running evaluator on chunk 17000 - 18000.\n",
      "skipping cvm PdfOrValue.both MetricInputType.dist_to_dist\n",
      "skipping ks PdfOrValue.both MetricInputType.dist_to_dist\n",
      "skipping kld PdfOrValue.both MetricInputType.dist_to_dist\n",
      "Processing 0 running evaluator on chunk 18000 - 19000.\n",
      "skipping cvm PdfOrValue.both MetricInputType.dist_to_dist\n",
      "skipping ks PdfOrValue.both MetricInputType.dist_to_dist\n",
      "skipping kld PdfOrValue.both MetricInputType.dist_to_dist\n",
      "Processing 0 running evaluator on chunk 19000 - 20000.\n",
      "skipping cvm PdfOrValue.both MetricInputType.dist_to_dist\n",
      "skipping ks PdfOrValue.both MetricInputType.dist_to_dist\n",
      "skipping kld PdfOrValue.both MetricInputType.dist_to_dist\n",
      "Processing 0 running evaluator on chunk 20000 - 20449.\n",
      "skipping cvm PdfOrValue.both MetricInputType.dist_to_dist\n",
      "skipping ks PdfOrValue.both MetricInputType.dist_to_dist\n",
      "skipping kld PdfOrValue.both MetricInputType.dist_to_dist\n",
      "Skipping cdeloss which did not cache data\n",
      "Skipping point_stats_iqr which did not cache data\n",
      "Inserting handle into data store.  summary_single: inprogress_summary_single.hdf5, single\n",
      "Inserting handle into data store.  single_distribution_summary_single: inprogress_single_distribution_summary_single.hdf5, single\n"
     ]
    },
    {
     "name": "stderr",
     "output_type": "stream",
     "text": [
      "NOTE/WARNING: Expected output file single_distribution_summary_single.hdf5 was not generated.\n"
     ]
    }
   ],
   "source": [
    "single_results = single_stage.evaluate(ensemble_d, ztrue_data_d)"
   ]
  },
  {
   "cell_type": "code",
   "execution_count": 27,
   "metadata": {},
   "outputs": [
    {
     "name": "stdout",
     "output_type": "stream",
     "text": [
      "This is not a qp file because 'meta'\n",
      "Unsupported metric requested: 'omega'.  Available metrics are: ['ad', 'brier', 'cdeloss', 'cvm', 'kld', 'ks', 'moment', 'outlier', 'pit', 'point_bias', 'point_outlier_rate', 'point_stats_ez', 'point_stats_iqr', 'point_stats_sigma_mad', 'rbpe', 'rmse']\n",
      "Requested metrics: ['cvm', 'ks', 'kld', 'cdeloss', 'point_stats_ez', 'point_stats_iqr']\n",
      "Inserting handle into data store.  output_single: inprogress_output_single.hdf5, single\n",
      "Inserting handle into data store.  summary_single: inprogress_summary_single.hdf5, single\n",
      "Inserting handle into data store.  single_distribution_summary_single: inprogress_single_distribution_summary_single.hdf5, single\n"
     ]
    },
    {
     "name": "stderr",
     "output_type": "stream",
     "text": [
      "NOTE/WARNING: Expected output file single_distribution_summary_single.hdf5 was not generated.\n"
     ]
    }
   ],
   "source": [
    "single_results_single = single_stage_single.evaluate(ensemble_d, ztrue_data_d)"
   ]
  },
  {
   "cell_type": "code",
   "execution_count": 28,
   "metadata": {},
   "outputs": [
    {
     "data": {
      "text/plain": [
       "{'point_stats_ez_zmode_redshift': array([[-0.02252694, -0.0214079 , -0.04232273, ..., -0.75130654,\n",
       "         -0.74880937, -0.74742172],\n",
       "        [-0.02252694, -0.0214079 , -0.04232273, ..., -0.75130654,\n",
       "         -0.74880937, -0.74742172],\n",
       "        [-0.02252694, -0.0214079 , -0.04232273, ..., -0.75130654,\n",
       "         -0.74880937, -0.74742172],\n",
       "        ...,\n",
       "        [ 2.90989226,  2.91436839,  2.83070909, ..., -0.00522614,\n",
       "          0.00476253,  0.0103131 ],\n",
       "        [ 2.67529872,  2.67950628,  2.60086655, ..., -0.06491258,\n",
       "         -0.05552322, -0.05030568],\n",
       "        [ 2.90989226,  2.91436839,  2.83070909, ..., -0.00522614,\n",
       "          0.00476253,  0.0103131 ]])}"
      ]
     },
     "execution_count": 28,
     "metadata": {},
     "output_type": "execute_result"
    }
   ],
   "source": [
    "single_stage.get_handle('output')()"
   ]
  },
  {
   "cell_type": "code",
   "execution_count": 29,
   "metadata": {},
   "outputs": [
    {
     "data": {
      "text/plain": [
       "{'cdeloss_redshift': array([-6.75181317]),\n",
       " 'point_stats_iqr_zmode_redshift': array([0.33537443])}"
      ]
     },
     "execution_count": 29,
     "metadata": {},
     "output_type": "execute_result"
    }
   ],
   "source": [
    "single_stage.get_handle('summary')()"
   ]
  },
  {
   "cell_type": "code",
   "execution_count": 30,
   "metadata": {},
   "outputs": [
    {
     "data": {
      "text/plain": [
       "{'point_stats_ez_zmode_redshift': array([[-0.02252694, -0.0214079 , -0.04232273, ..., -0.75130654,\n",
       "         -0.74880937, -0.74742172],\n",
       "        [-0.02252694, -0.0214079 , -0.04232273, ..., -0.75130654,\n",
       "         -0.74880937, -0.74742172],\n",
       "        [-0.02252694, -0.0214079 , -0.04232273, ..., -0.75130654,\n",
       "         -0.74880937, -0.74742172],\n",
       "        ...,\n",
       "        [ 2.90989226,  2.91436839,  2.83070909, ..., -0.00522614,\n",
       "          0.00476253,  0.0103131 ],\n",
       "        [ 2.67529872,  2.67950628,  2.60086655, ..., -0.06491258,\n",
       "         -0.05552322, -0.05030568],\n",
       "        [ 2.90989226,  2.91436839,  2.83070909, ..., -0.00522614,\n",
       "          0.00476253,  0.0103131 ]])}"
      ]
     },
     "execution_count": 30,
     "metadata": {},
     "output_type": "execute_result"
    }
   ],
   "source": [
    "single_stage_single.get_handle('output')()"
   ]
  },
  {
   "cell_type": "code",
   "execution_count": 31,
   "metadata": {},
   "outputs": [
    {
     "data": {
      "text/plain": [
       "{'cdeloss_redshift': array([-6.75181317]),\n",
       " 'point_stats_iqr_zmode_redshift': array([0.33537443])}"
      ]
     },
     "execution_count": 31,
     "metadata": {},
     "output_type": "execute_result"
    }
   ],
   "source": [
    "single_stage_single.get_handle('summary')()"
   ]
  },
  {
   "cell_type": "markdown",
   "metadata": {},
   "source": [
    "# CDF-based Metrics"
   ]
  },
  {
   "cell_type": "markdown",
   "metadata": {},
   "source": [
    "### PIT\n",
    "\n",
    "The Probability Integral Transform (PIT), is the Cumulative Distribution Function (CDF) of the photo-z PDF \n",
    "\n",
    "$$ \\mathrm{CDF}(f, q)\\ =\\ \\int_{-\\infty}^{q}\\ f(z)\\ dz $$\n",
    "\n",
    "evaluated at the galaxy's true redshift for every galaxy $i$ in the catalog.\n",
    "\n",
    "$$ \\mathrm{PIT}(p_{i}(z);\\ z_{i})\\ =\\ \\int_{-\\infty}^{z^{true}_{i}}\\ p_{i}(z)\\ dz $$ \n"
   ]
  },
  {
   "cell_type": "code",
   "execution_count": 32,
   "metadata": {},
   "outputs": [],
   "source": [
    "fzdata = DS.read_file('pdfs_data', QPHandle, pdfs_file)\n",
    "ztrue_data = DS.read_file('ztrue_data', TableHandle, ztrue_file)\n",
    "ztrue = ztrue_data()['photometry']['redshift']\n",
    "zgrid = fzdata().metadata()['xvals'].ravel()\n",
    "photoz_mode = fzdata().mode(grid=zgrid)"
   ]
  },
  {
   "cell_type": "code",
   "execution_count": 33,
   "metadata": {},
   "outputs": [
    {
     "name": "stderr",
     "output_type": "stream",
     "text": [
      "/Users/echarles/software/DESC/qp/src/qp/metrics/array_metrics.py:27: UserWarning: p-value floored: true value smaller than 0.001\n",
      "  return stats.anderson_ksamp([p_random_variables, q_random_variables], **kwargs)\n"
     ]
    }
   ],
   "source": [
    "from qp.metrics.pit import PIT\n",
    "pitobj = PIT(fzdata(), ztrue)\n",
    "quant_ens = pitobj.pit\n",
    "metamets = pitobj.calculate_pit_meta_metrics()"
   ]
  },
  {
   "cell_type": "markdown",
   "metadata": {},
   "source": [
    "The evaluate method PIT class returns two objects, a quantile distribution based on the full set of PIT values (a frozen distribution object), and a dictionary of meta metrics associated to PIT (to be detailed below). "
   ]
  },
  {
   "cell_type": "code",
   "execution_count": 34,
   "metadata": {},
   "outputs": [
    {
     "data": {
      "text/plain": [
       "<qp.ensemble.Ensemble at 0x17fd78b90>"
      ]
     },
     "execution_count": 34,
     "metadata": {},
     "output_type": "execute_result"
    }
   ],
   "source": [
    "quant_ens"
   ]
  },
  {
   "cell_type": "code",
   "execution_count": 35,
   "metadata": {},
   "outputs": [
    {
     "data": {
      "text/plain": [
       "{'ad': Anderson_ksampResult(statistic=84.95623553609381, critical_values=array([0.325, 1.226, 1.961, 2.718, 3.752, 4.592, 6.546]), pvalue=0.001),\n",
       " 'cvm': CramerVonMisesResult(statistic=9.62335199605935, pvalue=9.265033185101856e-10),\n",
       " 'ks': KstestResult(statistic=0.033590049370962216, pvalue=1.7621068075751534e-20, statistic_location=0.9921210288809627, statistic_sign=-1),\n",
       " 'outlier_rate': 0.058737978774663246}"
      ]
     },
     "execution_count": 35,
     "metadata": {},
     "output_type": "execute_result"
    }
   ],
   "source": [
    "metamets"
   ]
  },
  {
   "cell_type": "code",
   "execution_count": 36,
   "metadata": {},
   "outputs": [
    {
     "data": {
      "text/plain": [
       "array([0.19392947, 0.36675619, 0.52017547, ..., 1.        , 0.93189232,\n",
       "       0.4674437 ])"
      ]
     },
     "execution_count": 36,
     "metadata": {},
     "output_type": "execute_result"
    }
   ],
   "source": [
    "pit_vals = np.array(pitobj.pit_samps)\n",
    "pit_vals"
   ]
  },
  {
   "cell_type": "code",
   "execution_count": 37,
   "metadata": {},
   "outputs": [
    {
     "name": "stdout",
     "output_type": "stream",
     "text": [
      "PIT outlier rate of this sample: 0.058738\n",
      "PIT outlier rate of this sample: 0.058738\n"
     ]
    }
   ],
   "source": [
    "pit_out_rate = metamets['outlier_rate']\n",
    "print(f\"PIT outlier rate of this sample: {pit_out_rate:.6f}\") \n",
    "pit_out_rate = pitobj.evaluate_PIT_outlier_rate()\n",
    "print(f\"PIT outlier rate of this sample: {pit_out_rate:.6f}\") "
   ]
  },
  {
   "cell_type": "markdown",
   "metadata": {},
   "source": [
    "### PIT-QQ plot"
   ]
  },
  {
   "cell_type": "markdown",
   "metadata": {},
   "source": [
    "The histogram of PIT values is a useful tool for a qualitative assessment of PDFs quality. It shows whether the PDFs are:\n",
    "* biased (tilted PIT histogram)\n",
    "* under-dispersed (excess counts close to the boudaries 0 and 1)\n",
    "* over-dispersed (lack of counts close the boudaries 0 and 1)\n",
    "* well-calibrated (flat histogram)\n",
    "\n",
    "Following the standards in DC1 paper, the PIT histogram is accompanied by the quantile-quantile (QQ), which can be used to compare qualitatively the PIT distribution obtained with the PDFs agaist the ideal case (uniform distribution). The closer the QQ plot is to the diagonal, the better is the PDFs calibration. "
   ]
  },
  {
   "cell_type": "code",
   "execution_count": 38,
   "metadata": {},
   "outputs": [
    {
     "data": {
      "image/png": "[encoded data removed]",
      "text/plain": [
       "<Figure size 400x500 with 3 Axes>"
      ]
     },
     "metadata": {},
     "output_type": "display_data"
    }
   ],
   "source": [
    "from utils import plot_pit_qq, ks_plot\n",
    "pdfs = fzdata.data.objdata()['yvals']\n",
    "plot_pit_qq(pdfs, zgrid, ztrue, title=\"PIT-QQ - toy data\", code=\"FlexZBoost\",\n",
    "                pit_out_rate=pit_out_rate, savefig=False)"
   ]
  },
  {
   "cell_type": "markdown",
   "metadata": {},
   "source": [
    "The black horizontal line represents the ideal case where the PIT histogram would behave as a uniform distribution U(0,1)."
   ]
  },
  {
   "cell_type": "markdown",
   "metadata": {},
   "source": [
    "## Summary statistics of CDF-based metrics\n",
    "\n",
    "To evaluate globally the quality of PDFs estimates, `rail.evaluation` provides a set of metrics to compare the empirical distributions of PIT values with the reference uniform distribution, U(0,1). "
   ]
  },
  {
   "cell_type": "markdown",
   "metadata": {},
   "source": [
    "### Kolmogorov-Smirnov  \n",
    "\n",
    "Let's start with the traditional Kolmogorov-Smirnov (KS) statistic test, which is the maximum difference between the empirical and the expected cumulative distributions of PIT values:\n",
    "\n",
    "$$\n",
    "\\mathrm{KS} \\equiv \\max_{PIT} \\Big( \\left| \\ \\mathrm{CDF} \\small[ \\hat{f}, z \\small] - \\mathrm{CDF} \\small[ \\tilde{f}, z \\small] \\  \\right| \\Big)\n",
    "$$\n",
    "\n",
    "Where $\\hat{f}$ is the PIT distribution and $\\tilde{f}$ is U(0,1). Therefore, the smaller value of KS the closer the PIT distribution is to be uniform. The `evaluate` method of the PITKS class returns a named tuple with the statistic and p-value. "
   ]
  },
  {
   "cell_type": "code",
   "execution_count": 39,
   "metadata": {},
   "outputs": [
    {
     "name": "stdout",
     "output_type": "stream",
     "text": [
      "PIT KS stat and pval: KstestResult(statistic=0.033590049370962216, pvalue=1.7621068075751534e-20, statistic_location=0.9921210288809627, statistic_sign=-1)\n",
      "PIT KS stat and pval: KstestResult(statistic=0.033590049370962216, pvalue=1.7621068075751534e-20, statistic_location=0.9921210288809627, statistic_sign=-1)\n"
     ]
    }
   ],
   "source": [
    "ks_stat_and_pval = metamets['ks']\n",
    "print(f\"PIT KS stat and pval: {ks_stat_and_pval}\") \n",
    "ks_stat_and_pval = pitobj.evaluate_PIT_KS()\n",
    "print(f\"PIT KS stat and pval: {ks_stat_and_pval}\") "
   ]
  },
  {
   "cell_type": "code",
   "execution_count": 40,
   "metadata": {},
   "outputs": [
    {
     "data": {
      "image/png": "[encoded data removed]",
      "text/plain": [
       "<Figure size 400x400 with 1 Axes>"
      ]
     },
     "metadata": {},
     "output_type": "display_data"
    }
   ],
   "source": [
    "ks_plot(pitobj)"
   ]
  },
  {
   "cell_type": "code",
   "execution_count": 41,
   "metadata": {},
   "outputs": [
    {
     "name": "stdout",
     "output_type": "stream",
     "text": [
      "KS metric of this sample: 0.0336\n"
     ]
    }
   ],
   "source": [
    "print(f\"KS metric of this sample: {ks_stat_and_pval.statistic:.4f}\") "
   ]
  },
  {
   "cell_type": "markdown",
   "metadata": {},
   "source": [
    "### Cramer-von Mises\n",
    "\n",
    "Similarly, let's calculate the Cramer-von Mises (CvM) test, a variant of the KS statistic defined as the mean-square difference between the CDFs of an empirical PDF and the true PDFs:\n",
    "\n",
    "$$ \\mathrm{CvM}^2 \\equiv \\int_{-\\infty}^{\\infty} \\Big( \\mathrm{CDF} \\small[ \\hat{f}, z \\small] \\ - \\ \\mathrm{CDF} \\small[ \\tilde{f}, z \\small] \\Big)^{2} \\mathrm{dCDF}(\\tilde{f}, z) $$ \n",
    "\n",
    "on the distribution of PIT values, which should be uniform if the PDFs are perfect."
   ]
  },
  {
   "cell_type": "code",
   "execution_count": 42,
   "metadata": {},
   "outputs": [
    {
     "name": "stdout",
     "output_type": "stream",
     "text": [
      "PIT CvM stat and pval: CramerVonMisesResult(statistic=9.62335199605935, pvalue=9.265033185101856e-10)\n",
      "PIT CvM stat and pval: CramerVonMisesResult(statistic=9.62335199605935, pvalue=9.265033185101856e-10)\n"
     ]
    }
   ],
   "source": [
    "cvm_stat_and_pval = metamets['cvm']\n",
    "print(f\"PIT CvM stat and pval: {cvm_stat_and_pval}\") \n",
    "cvm_stat_and_pval = pitobj.evaluate_PIT_CvM()\n",
    "print(f\"PIT CvM stat and pval: {cvm_stat_and_pval}\")"
   ]
  },
  {
   "cell_type": "code",
   "execution_count": 43,
   "metadata": {},
   "outputs": [
    {
     "name": "stdout",
     "output_type": "stream",
     "text": [
      "CvM metric of this sample: 9.6234\n"
     ]
    }
   ],
   "source": [
    "print(f\"CvM metric of this sample: {cvm_stat_and_pval.statistic:.4f}\") "
   ]
  },
  {
   "cell_type": "markdown",
   "metadata": {},
   "source": [
    "### Anderson-Darling \n",
    "\n",
    "Another variation of the KS statistic is the Anderson-Darling (AD) test, a weighted mean-squared difference featuring enhanced sensitivity to discrepancies in the tails of the distribution. \n",
    "\n",
    "$$ \\mathrm{AD}^2 \\equiv N_{tot} \\int_{-\\infty}^{\\infty} \\frac{\\big( \\mathrm{CDF} \\small[ \\hat{f}, z \\small] \\ - \\ \\mathrm{CDF} \\small[ \\tilde{f}, z \\small] \\big)^{2}}{\\mathrm{CDF} \\small[ \\tilde{f}, z \\small] \\big( 1 \\ - \\ \\mathrm{CDF} \\small[ \\tilde{f}, z \\small] \\big)}\\mathrm{dCDF}(\\tilde{f}, z) $$ \n",
    "\n"
   ]
  },
  {
   "cell_type": "code",
   "execution_count": 44,
   "metadata": {},
   "outputs": [
    {
     "name": "stdout",
     "output_type": "stream",
     "text": [
      "PIT AD stat and pval: Anderson_ksampResult(statistic=84.95623553609381, critical_values=array([0.325, 1.226, 1.961, 2.718, 3.752, 4.592, 6.546]), pvalue=0.001)\n",
      "PIT AD stat and pval: Anderson_ksampResult(statistic=84.95623553609381, critical_values=array([0.325, 1.226, 1.961, 2.718, 3.752, 4.592, 6.546]), pvalue=0.001)\n"
     ]
    },
    {
     "name": "stderr",
     "output_type": "stream",
     "text": [
      "/Users/echarles/software/DESC/qp/src/qp/metrics/array_metrics.py:27: UserWarning: p-value floored: true value smaller than 0.001\n",
      "  return stats.anderson_ksamp([p_random_variables, q_random_variables], **kwargs)\n"
     ]
    }
   ],
   "source": [
    "ad_stat_crit_sig = metamets['ad']\n",
    "print(f\"PIT AD stat and pval: {ad_stat_crit_sig}\") \n",
    "ad_stat_crit_sig = pitobj.evaluate_PIT_anderson_ksamp()\n",
    "print(f\"PIT AD stat and pval: {ad_stat_crit_sig}\")"
   ]
  },
  {
   "cell_type": "code",
   "execution_count": 45,
   "metadata": {},
   "outputs": [
    {
     "name": "stdout",
     "output_type": "stream",
     "text": [
      "AD metric of this sample: 84.9562\n"
     ]
    }
   ],
   "source": [
    "print(f\"AD metric of this sample: {ad_stat_crit_sig.statistic:.4f}\") "
   ]
  },
  {
   "cell_type": "markdown",
   "metadata": {},
   "source": [
    "It is possible to remove catastrophic outliers before calculating the integral for the sake of preserving numerical instability. For instance, Schmidt et al. computed the Anderson-Darling statistic within the interval (0.01, 0.99)."
   ]
  },
  {
   "cell_type": "code",
   "execution_count": 46,
   "metadata": {},
   "outputs": [
    {
     "name": "stderr",
     "output_type": "stream",
     "text": [
      "WARNING:root:Removed 1760 PITs from the sample.\n"
     ]
    },
    {
     "name": "stdout",
     "output_type": "stream",
     "text": [
      "AD metric of this sample: 84.9562\n",
      "AD metric for 0.01 < PIT < 0.99: 89.9826\n"
     ]
    }
   ],
   "source": [
    "ad_stat_crit_sig_cut = pitobj.evaluate_PIT_anderson_ksamp(pit_min=0.01, pit_max=0.99)\n",
    "print(f\"AD metric of this sample: {ad_stat_crit_sig.statistic:.4f}\") \n",
    "print(f\"AD metric for 0.01 < PIT < 0.99: {ad_stat_crit_sig_cut.statistic:.4f}\") "
   ]
  },
  {
   "cell_type": "markdown",
   "metadata": {},
   "source": [
    "## CDE Loss\n",
    "\n",
    "In the absence of true photo-z posteriors, the metric used to evaluate individual PDFs is the **Conditional Density Estimate (CDE) Loss**, a metric analogue to the root-mean-squared-error:\n",
    "\n",
    "$$ L(f, \\hat{f}) \\equiv  \\int \\int {\\big(f(z | x) - \\hat{f}(z | x) \\big)}^{2} dzdP(x), $$ \n",
    "\n",
    "where $f(z | x)$ is the true photo-z PDF and $\\hat{f}(z | x)$ is the estimated PDF in terms of the photometry $x$. Since $f(z | x)$  is unknown, we estimate the **CDE Loss** as described in [Izbicki & Lee, 2017 (arXiv:1704.08095)](https://arxiv.org/abs/1704.08095). :\n",
    "\n",
    "$$ \\mathrm{CDE} = \\mathbb{E}\\big(  \\int{{\\hat{f}(z | X)}^2 dz} \\big) - 2{\\mathbb{E}}_{X, Z}\\big(\\hat{f}(Z, X) \\big) + K_{f},  $$\n",
    "\n",
    "\n",
    "where the first term is the expectation value of photo-z posterior with respect to the marginal distribution of the covariates X, and the second term is the expectation value  with respect to the joint distribution of observables X and the space Z of all possible redshifts (in practice, the centroids of the PDF bins), and the third term is a constant depending on the true conditional densities $f(z | x)$. "
   ]
  },
  {
   "cell_type": "code",
   "execution_count": 47,
   "metadata": {},
   "outputs": [],
   "source": [
    "from rail.evaluation.metrics.cdeloss import *\n",
    "cdelossobj = CDELoss(fzdata.data, zgrid, ztrue)"
   ]
  },
  {
   "cell_type": "code",
   "execution_count": 48,
   "metadata": {},
   "outputs": [
    {
     "data": {
      "text/plain": [
       "stat_and_pval(statistic=-6.725602928688286, p_value=nan)"
      ]
     },
     "execution_count": 48,
     "metadata": {},
     "output_type": "execute_result"
    }
   ],
   "source": [
    "cde_stat_and_pval = cdelossobj.evaluate()\n",
    "cde_stat_and_pval"
   ]
  },
  {
   "cell_type": "code",
   "execution_count": 49,
   "metadata": {},
   "outputs": [
    {
     "name": "stdout",
     "output_type": "stream",
     "text": [
      "CDE loss of this sample: -6.73\n"
     ]
    }
   ],
   "source": [
    "print(f\"CDE loss of this sample: {cde_stat_and_pval.statistic:.2f}\") "
   ]
  },
  {
   "cell_type": "code",
   "execution_count": null,
   "metadata": {},
   "outputs": [],
   "source": []
  }
 ],
 "metadata": {
  "kernelspec": {
   "display_name": "Python 3 (ipykernel)",
   "language": "python",
   "name": "python3"
  },
  "language_info": {
   "codemirror_mode": {
    "name": "ipython",
    "version": 3
   },
   "file_extension": ".py",
   "mimetype": "text/x-python",
   "name": "python",
   "nbconvert_exporter": "python",
   "pygments_lexer": "ipython3",
   "version": "3.11.4"
  }
 },
 "nbformat": 4,
 "nbformat_minor": 4
}
