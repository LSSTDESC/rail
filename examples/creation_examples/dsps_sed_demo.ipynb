{
 "cells": [
  {
   "cell_type": "markdown",
   "metadata": {
    "collapsed": false,
    "jupyter": {
     "outputs_hidden": false
    }
   },
   "source": [
    "# Demo of SED and photometry calculations with DSPS\n",
    "\n",
    "author: Luca Tortorelli\n",
    "\n",
    "last run successfully: May 10, 2024\n",
    "\n",
    "This notebook demonstrates some basic usage of the rail_dsps library. In particular, for a galaxy with some arbitrary star formation history, we'll see how to calculate its restframe SED, and its absolute and apparent magnitude in some band.\n",
    "\n",
    "SPS calculations are based on a set of template SEDs of simple stellar populations (SSPs). Supplying such templates is outside the planned scope of the DSPS package, and so they will need to be retrieved from some other library. For example, the FSPS library supplies such templates in a convenient form.\n",
    "\n",
    "In case the user is not aware of how to generate these templates, the code automatically downloads a pre-defined library from NERSC."
   ]
  },
  {
   "cell_type": "markdown",
   "metadata": {
    "collapsed": false,
    "jupyter": {
     "outputs_hidden": false
    }
   },
   "source": [
    "### SingleSedModeler"
   ]
  },
  {
   "cell_type": "markdown",
   "metadata": {
    "collapsed": false,
    "jupyter": {
     "outputs_hidden": false
    }
   },
   "source": [
    "The SingleSedModeler class allows the user to generate a single rest-frame SED at the time with rail_dsps.\n",
    "\n",
    "Some example galaxy properties that are required to create a single SED model are generated via this notebook and stored into an hdf5 table. The required galaxy properties are:\n",
    "\n",
    "- galaxy redshifts\n",
    "- the grid of cosmic time over which the star-formation history of galaxies is evaluated in units of Gyr\n",
    "- the star-formation history of galaxies in units of Msun/yr\n",
    "- galaxy metallicity at the time of observation in units of log10(Z)\n",
    "- log normal scatter of the galaxy metallicity at the time of observation\n"
   ]
  },
  {
   "cell_type": "code",
   "metadata": {
    "collapsed": false,
    "jupyter": {
     "outputs_hidden": false
    },
    "ExecuteTime": {
     "end_time": "2024-05-10T15:41:08.510620Z",
     "start_time": "2024-05-10T15:41:05.620759Z"
    }
   },
   "source": [
    "import os\n",
    "import rail.dsps\n",
    "from rail.core.stage import RailStage\n",
    "from rail.core.data import Hdf5Handle\n",
    "import numpy as np\n",
    "import h5py"
   ],
   "outputs": [],
   "execution_count": 1
  },
  {
   "cell_type": "code",
   "execution_count": null,
   "metadata": {
    "collapsed": false,
    "jupyter": {
     "outputs_hidden": false
    }
   },
   "outputs": [],
   "source": [
    "DS = RailStage.data_store\n",
    "DS.__class__.allow_overwrite = True\n",
    "\n",
    "RAIL_DSPS_DIR = os.path.abspath(os.path.join(os.path.dirname(rail.dsps.__file__), '..'))\n",
    "default_rail_fsps_files_folder = os.path.join(RAIL_DSPS_DIR, 'examples_data/creation_data/data/dsps_default_data')\n",
    "trainFile = os.path.join(default_rail_fsps_files_folder, 'input_galaxy_properties_dsps.hdf5')"
   ]
  },
  {
   "cell_type": "code",
   "execution_count": null,
   "metadata": {
    "collapsed": false,
    "jupyter": {
     "outputs_hidden": false
    }
   },
   "outputs": [],
   "source": [
    "n_galaxies = 100\n",
    "\n",
    "redshift = np.linspace(0.1,1.0,num=n_galaxies)\n",
    "\n",
    "gal_t_table = np.linspace(0.05, 13.8, 100) # age of the universe in Gyr\n",
    "gal_sfr_table = np.random.uniform(0, 10, gal_t_table.size) # SFR in Msun/yr\n",
    "\n",
    "gal_lgmet = -2.0 # log10(Z)\n",
    "gal_lgmet_scatter = 0.2 # lognormal scatter in the metallicity distribution function\n",
    "\n",
    "cosmic_time_grid = np.full((n_galaxies, len(gal_t_table)), gal_t_table)\n",
    "star_formation_history = np.full((n_galaxies, len(gal_sfr_table)), gal_sfr_table)\n",
    "stellar_metallicity = np.full(n_galaxies, gal_lgmet)\n",
    "stellar_metallicity_scatter = np.full(n_galaxies, gal_lgmet_scatter)\n",
    "\n",
    "with h5py.File(trainFile, 'w') as h5table:\n",
    "    h5table.create_dataset(name='redshifts', data=redshift)\n",
    "    h5table.create_dataset(name='cosmic_time_grid', data=cosmic_time_grid)\n",
    "    h5table.create_dataset(name='star_formation_history', data=star_formation_history)\n",
    "    h5table.create_dataset(name='stellar_metallicity', data=stellar_metallicity)\n",
    "    h5table.create_dataset(name='stellar_metallicity_scatter', data=stellar_metallicity_scatter)"
   ]
  },
  {
   "cell_type": "code",
   "execution_count": null,
   "metadata": {
    "collapsed": false,
    "jupyter": {
     "outputs_hidden": false
    }
   },
   "outputs": [],
   "source": "training_data = DS.read_file(\"training_data\", Hdf5Handle, trainFile)"
  },
  {
   "cell_type": "markdown",
   "metadata": {
    "collapsed": false,
    "jupyter": {
     "outputs_hidden": false
    }
   },
   "source": [
    "The user is also required to provide the template SSPs with which rail_dsps generates its rest-frame SEDs. Leaving it blank or to a non-existing file will lead rail_dsps to generate the default templates from NERSC."
   ]
  },
  {
   "cell_type": "code",
   "execution_count": null,
   "metadata": {
    "collapsed": false,
    "jupyter": {
     "outputs_hidden": false
    }
   },
   "outputs": [],
   "source": [
    "dspssinglesedmodeler = rail.dsps.DSPSSingleSedModeler.make_stage(name='DSPSSingleSedModeler',\n",
    "                                                                 ssp_templates_file=os.path.join(RAIL_DSPS_DIR,'examples_data/creation_data/data/dsps_default_data/ssp_data_fsps_v3.2_lgmet_age.h5'),\n",
    "                                                                 redshift_key='redshifts',\n",
    "                                                                 cosmic_time_grid_key='cosmic_time_grid',\n",
    "                                                                 star_formation_history_key='star_formation_history',\n",
    "                                                                 stellar_metallicity_key='stellar_metallicity',\n",
    "                                                                 stellar_metallicity_scatter_key='stellar_metallicity_scatter',\n",
    "                                                                 restframe_sed_key='restframe_seds', default_cosmology=True,\n",
    "                                                                 min_wavelength=250, max_wavelength=12000)"
   ]
  },
  {
   "cell_type": "code",
   "execution_count": null,
   "metadata": {
    "collapsed": false,
    "jupyter": {
     "outputs_hidden": false
    }
   },
   "outputs": [],
   "source": "dspssinglesedmodel = dspssinglesedmodeler.fit_model(input_data=training_data)"
  },
  {
   "cell_type": "code",
   "execution_count": null,
   "metadata": {
    "collapsed": false,
    "jupyter": {
     "outputs_hidden": false
    }
   },
   "outputs": [],
   "source": [
    "dspssinglesedmodel.data"
   ]
  },
  {
   "cell_type": "markdown",
   "metadata": {
    "collapsed": false,
    "jupyter": {
     "outputs_hidden": false
    }
   },
   "source": [
    "### PopulationSedModeler"
   ]
  },
  {
   "cell_type": "markdown",
   "metadata": {
    "collapsed": false,
    "jupyter": {
     "outputs_hidden": false
    }
   },
   "source": [
    "The PopulationSedModeler class works in a similar way as the SingleSedModeler class, but allows the user to generate a population of rest-frame SEDs using the native parallelization capabilities of jax.\n"
   ]
  },
  {
   "cell_type": "code",
   "execution_count": null,
   "metadata": {
    "collapsed": false,
    "jupyter": {
     "outputs_hidden": false
    }
   },
   "outputs": [],
   "source": [
    "import os\n",
    "import rail.dsps\n",
    "from rail.core.stage import RailStage\n",
    "from rail.core.data import Hdf5Handle\n",
    "import numpy as np\n",
    "import h5py"
   ]
  },
  {
   "cell_type": "code",
   "execution_count": null,
   "metadata": {
    "collapsed": false,
    "jupyter": {
     "outputs_hidden": false
    }
   },
   "outputs": [],
   "source": [
    "DS = RailStage.data_store\n",
    "DS.__class__.allow_overwrite = True\n",
    "\n",
    "default_rail_fsps_files_folder = os.path.join(RAIL_DSPS_DIR, 'examples_data/creation_data/data/dsps_default_data')\n",
    "trainFile = os.path.join(default_rail_fsps_files_folder, 'input_galaxy_properties_dsps.hdf5')"
   ]
  },
  {
   "cell_type": "code",
   "execution_count": null,
   "metadata": {
    "collapsed": false,
    "jupyter": {
     "outputs_hidden": false
    }
   },
   "outputs": [],
   "source": [
    "n_galaxies = 100\n",
    "\n",
    "redshift = np.linspace(0.1,1.0,num=n_galaxies)\n",
    "\n",
    "gal_t_table = np.linspace(0.05, 13.8, 100) # age of the universe in Gyr\n",
    "gal_sfr_table = np.random.uniform(0, 10, gal_t_table.size) # SFR in Msun/yr\n",
    "\n",
    "gal_lgmet = -2.0 # log10(Z)\n",
    "gal_lgmet_scatter = 0.2 # lognormal scatter in the metallicity distribution function\n",
    "\n",
    "cosmic_time_grid = np.full((n_galaxies, len(gal_t_table)), gal_t_table)\n",
    "star_formation_history = np.full((n_galaxies, len(gal_sfr_table)), gal_sfr_table)\n",
    "stellar_metallicity = np.full(n_galaxies, gal_lgmet)\n",
    "stellar_metallicity_scatter = np.full(n_galaxies, gal_lgmet_scatter)\n",
    "\n",
    "with h5py.File(trainFile, 'w') as h5table:\n",
    "    h5table.create_dataset(name='redshifts', data=redshift)\n",
    "    h5table.create_dataset(name='cosmic_time_grid', data=cosmic_time_grid)\n",
    "    h5table.create_dataset(name='star_formation_history', data=star_formation_history)\n",
    "    h5table.create_dataset(name='stellar_metallicity', data=stellar_metallicity)\n",
    "    h5table.create_dataset(name='stellar_metallicity_scatter', data=stellar_metallicity_scatter)"
   ]
  },
  {
   "cell_type": "code",
   "execution_count": null,
   "metadata": {
    "collapsed": false,
    "jupyter": {
     "outputs_hidden": false
    }
   },
   "outputs": [],
   "source": "training_data = DS.read_file(\"training_data\", Hdf5Handle, trainFile)"
  },
  {
   "cell_type": "code",
   "execution_count": null,
   "metadata": {
    "collapsed": false,
    "jupyter": {
     "outputs_hidden": false
    }
   },
   "outputs": [],
   "source": [
    "dspspopulationsedmodeler = rail.dsps.DSPSPopulationSedModeler.make_stage(name='DSPSPopulationSedModeler',\n",
    "                                                                         ssp_templates_file=os.path.join(RAIL_DSPS_DIR,\n",
    "                                                                         'examples_data/creation_data/data/dsps_default_data/ssp_data_fsps_v3.2_lgmet_age.h5'),\n",
    "                                                                         redshift_key='redshifts',\n",
    "                                                                         cosmic_time_grid_key='cosmic_time_grid',\n",
    "                                                                         star_formation_history_key='star_formation_history',\n",
    "                                                                         stellar_metallicity_key='stellar_metallicity',\n",
    "                                                                         stellar_metallicity_scatter_key='stellar_metallicity_scatter',\n",
    "                                                                         restframe_sed_key='restframe_seds', default_cosmology=True,\n",
    "                                                                         min_wavelength=250, max_wavelength=12000)"
   ]
  },
  {
   "cell_type": "code",
   "execution_count": null,
   "metadata": {
    "collapsed": false,
    "jupyter": {
     "outputs_hidden": false
    }
   },
   "outputs": [],
   "source": [
    "dspspopulationsedmodel = dspspopulationsedmodeler.fit_model(input_data=training_data)"
   ]
  },
  {
   "cell_type": "code",
   "execution_count": null,
   "metadata": {
    "collapsed": false,
    "jupyter": {
     "outputs_hidden": false
    }
   },
   "outputs": [],
   "source": [
    "dspspopulationsedmodel.data"
   ]
  },
  {
   "cell_type": "markdown",
   "metadata": {
    "collapsed": false,
    "jupyter": {
     "outputs_hidden": false
    }
   },
   "source": [
    "### DSPSPhotometryCreator"
   ]
  },
  {
   "cell_type": "markdown",
   "metadata": {
    "collapsed": false,
    "jupyter": {
     "outputs_hidden": false
    }
   },
   "source": [
    "This class allows the user to generate model photometry by computing the absolute and apparent magnitudes of galaxies from their input rest-frame SEDs. Although DSPSPopulationSedModeler generates the rest-frame SEDs that are needed for this class, the user can supply whatever external SED provided that the units are in Lsun/Hz.\n",
    "\n",
    "Generating the observed photometry with DSPS is simple and requires only few input from the user. The required input are:\n",
    "- the redshift dataset keyword of the hdf5 table containing the rest-frame SEDs output from the DSPSPopulationSedModeler\n",
    "- the rest-frame SEDs dataset keyword of the hdf5 table containing the rest-frame SEDs output from the DSPSPopulationSedModeler\n",
    "- the absolute and apparent magnitudes dataset keyword of the output hdf5 table\n",
    "- the folder path containing the filter bands\n",
    "- the name of the filter bands in order of increasing wavelength\n",
    "- the minimum and maximum wavelength used in the DSPSPopulationSedModeler class to generate the rest-frame SEDs\n",
    "- the path to the SSP template files\n",
    "- a boolean keyword to use (True) the default cosmology in DSPS.\n",
    "\n",
    "If the latter keyword is set to False, then the user has to manually provide the values of Om0, w0, wa and h in the .sample function."
   ]
  },
  {
   "cell_type": "code",
   "execution_count": null,
   "metadata": {
    "collapsed": false,
    "jupyter": {
     "outputs_hidden": false
    }
   },
   "outputs": [],
   "source": [
    "import os\n",
    "import rail.dsps\n",
    "from rail.core.stage import RailStage\n",
    "from rail.core.data import Hdf5Handle"
   ]
  },
  {
   "cell_type": "code",
   "execution_count": null,
   "metadata": {
    "collapsed": false,
    "jupyter": {
     "outputs_hidden": false
    }
   },
   "outputs": [],
   "source": [
    "DS = RailStage.data_store\n",
    "DS.__class__.allow_overwrite = True\n",
    "\n",
    "trainFile = 'model_DSPSPopulationSedModeler.hdf5'"
   ]
  },
  {
   "cell_type": "code",
   "execution_count": null,
   "metadata": {
    "collapsed": false,
    "jupyter": {
     "outputs_hidden": false
    }
   },
   "outputs": [],
   "source": "training_data = DS.read_file(\"training_data\", Hdf5Handle, trainFile)"
  },
  {
   "cell_type": "code",
   "execution_count": null,
   "metadata": {
    "collapsed": false,
    "jupyter": {
     "outputs_hidden": false
    }
   },
   "outputs": [],
   "source": [
    "dspsphotometrycreator = rail.dsps.DSPSPhotometryCreator.make_stage(name='DSPSPhotometryCreator',\n",
    "                                                         redshift_key='redshifts',\n",
    "                                                         restframe_sed_key='restframe_seds',\n",
    "                                                         absolute_mags_key='rest_frame_absolute_mags',\n",
    "                                                         apparent_mags_key='apparent_mags',\n",
    "                                                         filter_folder=os.path.join(RAIL_DSPS_DIR,\n",
    "                                                         'examples_data/creation_data/data/dsps_default_data/filters'),\n",
    "                                                         instrument_name='lsst',\n",
    "                                                         wavebands='u,g,r,i,z,y',\n",
    "                                                         min_wavelength=250, max_wavelength=12000,\n",
    "                                                         ssp_templates_file=os.path.join(RAIL_DSPS_DIR,\n",
    "                                                         'examples_data/creation_data/data/dsps_default_data/ssp_data_fsps_v3.2_lgmet_age.h5'),\n",
    "                                                         default_cosmology=True)"
   ]
  },
  {
   "cell_type": "code",
   "execution_count": null,
   "metadata": {
    "collapsed": false,
    "jupyter": {
     "outputs_hidden": false
    }
   },
   "outputs": [],
   "source": [
    "dspsphotometry = dspsphotometrycreator.sample(input_data=training_data)"
   ]
  },
  {
   "cell_type": "code",
   "execution_count": null,
   "metadata": {
    "collapsed": false,
    "jupyter": {
     "outputs_hidden": false
    }
   },
   "outputs": [],
   "source": [
    "dspsphotometry.data"
   ]
  }
 ],
 "metadata": {
  "kernelspec": {
   "display_name": "Python 3 (ipykernel)",
   "language": "python",
   "name": "python3"
  },
  "language_info": {
   "codemirror_mode": {
    "name": "ipython",
    "version": 3
   },
   "file_extension": ".py",
   "mimetype": "text/x-python",
   "name": "python",
   "nbconvert_exporter": "python",
   "pygments_lexer": "ipython3",
   "version": "3.11.4"
  }
 },
 "nbformat": 4,
 "nbformat_minor": 4
}
