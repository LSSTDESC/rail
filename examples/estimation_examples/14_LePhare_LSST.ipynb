{
 "cells": [
  {
   "cell_type": "markdown",
   "metadata": {},
   "source": [
    "# RAIL_Lephare example on LSST data\n",
    "\n",
    "**Author:** Raphael Shirley, Edited by Tianqing Zhang\n",
    "\n",
    "**Last successfully run:** May 16, 2025"
   ]
  },
  {
   "cell_type": "markdown",
   "metadata": {},
   "source": [
    "This example notebook uses synthetic data produced by PZFlow in combination with several predefined SED templates and filter definition files."
   ]
  },
  {
   "cell_type": "code",
   "execution_count": null,
   "metadata": {},
   "outputs": [],
   "source": [
    "from rail.estimation.algos.lephare import LephareInformer, LephareEstimator\n",
    "import numpy as np\n",
    "import lephare as lp\n",
    "from rail.core.stage import RailStage\n",
    "from rail.core.data import TableHandle\n",
    "from rail.utils.path_utils import RAILDIR\n",
    "\n",
    "import matplotlib.pyplot as plt\n",
    "import os\n",
    "DS = RailStage.data_store\n",
    "DS.__class__.allow_overwrite = True"
   ]
  },
  {
   "cell_type": "code",
   "execution_count": null,
   "metadata": {},
   "outputs": [],
   "source": [
    "RAILDIR"
   ]
  },
  {
   "cell_type": "markdown",
   "metadata": {},
   "source": [
    "Here we load previously created synthetic data"
   ]
  },
  {
   "cell_type": "code",
   "execution_count": null,
   "metadata": {},
   "outputs": [],
   "source": [
    "trainFile = os.path.join(RAILDIR, 'rail/examples_data/testdata/output_table_conv_train.hdf5')\n",
    "testFile = os.path.join(RAILDIR, 'rail/examples_data/testdata/output_table_conv_test.hdf5')\n",
    "traindata_io = DS.read_file(\"training_data\", TableHandle, trainFile)\n",
    "testdata_io = DS.read_file(\"test_data\", TableHandle, testFile)"
   ]
  },
  {
   "cell_type": "markdown",
   "metadata": {},
   "source": [
    "Retrieve all the required filter and template files\n",
    "\n",
    "One could add or take out bandpasses by editing the configuration file. "
   ]
  },
  {
   "cell_type": "code",
   "execution_count": null,
   "metadata": {},
   "outputs": [],
   "source": [
    "lephare_config_file = os.path.join(RAILDIR, '../../rail_lephare/tests/data/lsst.para')\n",
    "lephare_config = lp.read_config(lephare_config_file)\n",
    "\n",
    "lp.data_retrieval.get_auxiliary_data(keymap=lephare_config)"
   ]
  },
  {
   "cell_type": "markdown",
   "metadata": {},
   "source": [
    "We use the inform stage to create the library of SEDs with various redshifts, extinction parameters, and reddening values. This typically takes ~3-4 minutes."
   ]
  },
  {
   "cell_type": "code",
   "execution_count": null,
   "metadata": {},
   "outputs": [],
   "source": [
    "inform_lephare = LephareInformer.make_stage(\n",
    "    name=\"inform_Lephare\",\n",
    "    nondetect_val=np.nan,\n",
    "    model=\"lephare.pkl\",\n",
    "    hdf5_groupname=\"\",\n",
    "    # Use a sparse redshift grid to speed up the notebook\n",
    "    zmin=0,\n",
    "    zmax=5,\n",
    "    nzbins=51,\n",
    ")\n",
    "inform_lephare.lephare_config = lephare_config\n",
    "inform_lephare.inform(traindata_io)"
   ]
  },
  {
   "cell_type": "markdown",
   "metadata": {},
   "source": [
    "Now we take the sythetic test data, and find the best fits from the library. This results in a PDF, zmode, and zmean for each input test data. Takes ~2 minutes to run on 1500 inputs."
   ]
  },
  {
   "cell_type": "code",
   "execution_count": null,
   "metadata": {},
   "outputs": [],
   "source": [
    "estimate_lephare = LephareEstimator.make_stage(\n",
    "    name=\"test_Lephare\",\n",
    "    nondetect_val=np.nan,\n",
    "    model=inform_lephare.get_handle(\"model\"),\n",
    "    hdf5_groupname=\"\",\n",
    "    aliases=dict(input=\"test_data\", output=\"lephare_estim\"),\n",
    ")\n",
    "\n",
    "lephare_estimated = estimate_lephare.estimate(testdata_io)"
   ]
  },
  {
   "cell_type": "markdown",
   "metadata": {},
   "source": [
    "An example lephare PDF and comparison to the true value"
   ]
  },
  {
   "cell_type": "code",
   "execution_count": null,
   "metadata": {},
   "outputs": [],
   "source": [
    "indx = 0\n",
    "zgrid = np.linspace(0,3,300)\n",
    "plt.plot(zgrid, np.squeeze(lephare_estimated.data[indx].pdf(zgrid)), label='Estimated PDF')\n",
    "plt.axvline(x=testdata_io.data['redshift'][indx], color='r', label='True redshift')\n",
    "plt.legend()\n",
    "plt.xlabel('z')\n",
    "plt.show()"
   ]
  },
  {
   "cell_type": "markdown",
   "metadata": {},
   "source": [
    "More example fits"
   ]
  },
  {
   "cell_type": "code",
   "execution_count": null,
   "metadata": {},
   "outputs": [],
   "source": [
    "indxs = [8, 16, 32, 64, 128, 256, 512, 1024]\n",
    "zgrid = np.linspace(0,3,300)\n",
    "fig, axs = plt.subplots(2,4, figsize=(20,6))\n",
    "for i, indx in enumerate(indxs):\n",
    "    ax = axs[i//4, i%4]\n",
    "    ax.plot(zgrid, np.squeeze(lephare_estimated.data[indx].pdf(zgrid)), label='Estimated PDF')\n",
    "    ax.axvline(x=testdata_io.data['redshift'][indx], color='r', label='True redshift')\n",
    "    ax.set_xlabel('z')"
   ]
  },
  {
   "cell_type": "markdown",
   "metadata": {},
   "source": [
    "Histogram of the absolute difference between lephare estimate and true redshift"
   ]
  },
  {
   "cell_type": "code",
   "execution_count": null,
   "metadata": {},
   "outputs": [],
   "source": [
    "estimate_diff_from_truth = np.abs(lephare_estimated.data.ancil['zmode'] - testdata_io.data['redshift'])\n",
    "\n",
    "plt.figure()\n",
    "plt.hist(estimate_diff_from_truth, 100)\n",
    "plt.xlabel('abs(z_estimated - z_true)')\n",
    "plt.show()"
   ]
  },
  {
   "cell_type": "markdown",
   "metadata": {},
   "source": [
    "Let's compare the estimated median redshift vs. the true redshift in a scatter plot. "
   ]
  },
  {
   "cell_type": "code",
   "execution_count": null,
   "metadata": {},
   "outputs": [],
   "source": [
    "truez = testdata_io.data['redshift']\n",
    "\n",
    "plt.figure(figsize=(8,8))\n",
    "plt.scatter(truez, lephare_estimated.data.median(), s=3)\n",
    "plt.plot([-1,3],[-1,3], 'k--')\n",
    "plt.xlim([-0.1,3])\n",
    "plt.ylim([-0.1,3])\n",
    "\n",
    "plt.xlabel(\"redshift\", fontsize=12)\n",
    "plt.ylabel(\"z mode\", fontsize=12)"
   ]
  },
  {
   "cell_type": "code",
   "execution_count": null,
   "metadata": {},
   "outputs": [],
   "source": []
  },
  {
   "cell_type": "code",
   "execution_count": null,
   "metadata": {},
   "outputs": [],
   "source": []
  }
 ],
 "metadata": {
  "kernelspec": {
   "display_name": "Python 3 (ipykernel)",
   "language": "python",
   "name": "python3"
  },
  "language_info": {
   "codemirror_mode": {
    "name": "ipython",
    "version": 3
   },
   "file_extension": ".py",
   "mimetype": "text/x-python",
   "name": "python",
   "nbconvert_exporter": "python",
   "pygments_lexer": "ipython3",
   "version": "3.10.0"
  }
 },
 "nbformat": 4,
 "nbformat_minor": 4
}
