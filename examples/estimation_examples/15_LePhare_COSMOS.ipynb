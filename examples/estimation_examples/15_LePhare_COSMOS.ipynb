{
 "cells": [
  {
   "cell_type": "markdown",
   "metadata": {},
   "source": [
    "# COSMOS LePhare example\n",
    "\n",
    "The default data for testing LePHARE is the COSMOS dataset.\n",
    "\n",
    "In this example we use RAIL to run the standard LePHARE COSMOS example.\n",
    "\n",
    "In this example we use fluxes not magnitudes. In order to use magnitudes you must both update the config and the values."
   ]
  },
  {
   "cell_type": "code",
   "execution_count": null,
   "metadata": {},
   "outputs": [],
   "source": [
    "from rail.estimation.algos.lephare import LephareInformer, LephareEstimator\n",
    "import numpy as np\n",
    "import lephare as lp\n",
    "from rail.core.stage import RailStage\n",
    "import matplotlib.pyplot as plt\n",
    "from astropy.table import Table\n",
    "import astropy.units as u\n",
    "from collections import OrderedDict\n",
    "from rail.core.data import TableHandle\n",
    "\n",
    "import os\n",
    "\n",
    "DS = RailStage.data_store\n",
    "DS.__class__.allow_overwrite = True"
   ]
  },
  {
   "cell_type": "markdown",
   "metadata": {},
   "source": [
    "Here we load previously created synthetic data"
   ]
  },
  {
   "cell_type": "markdown",
   "metadata": {},
   "source": [
    "Retrieve all the required filter and template files"
   ]
  },
  {
   "cell_type": "code",
   "execution_count": null,
   "metadata": {},
   "outputs": [],
   "source": [
    "lephare_config = lp.default_cosmos_config\n",
    "# For useable science results you must use a denser redshift grid by commenting out the following line which will revert to the config dz of 0.01.\n",
    "lephare_config['Z_STEP']= \".1,0.,7.\"\n",
    "nobj=100 # Increase to run on more objects. Set to -1 to run on all.\n",
    "\n",
    "lp.data_retrieval.get_auxiliary_data(keymap=lephare_config, additional_files=[\"examples/COSMOS.in\",\"examples/output.para\"])\n"
   ]
  },
  {
   "cell_type": "code",
   "execution_count": null,
   "metadata": {},
   "outputs": [],
   "source": [
    "bands=lephare_config['FILTER_LIST'].split(',')\n",
    "len(bands)"
   ]
  },
  {
   "cell_type": "code",
   "execution_count": null,
   "metadata": {},
   "outputs": [],
   "source": [
    "# For a test lets just look at the first 100 objects\n",
    "cosmos=Table.read(os.path.join(lp.LEPHAREDIR,\"examples/COSMOS.in\"),format='ascii')[:nobj]"
   ]
  },
  {
   "cell_type": "code",
   "execution_count": null,
   "metadata": {},
   "outputs": [],
   "source": [
    "print(f\"We will run on {len(cosmos)} objects.\")"
   ]
  },
  {
   "cell_type": "code",
   "execution_count": null,
   "metadata": {},
   "outputs": [],
   "source": [
    "# The example file is in the historical lephare format.\n",
    "data=OrderedDict()\n",
    "flux_cols=[]\n",
    "flux_err_cols=[]\n",
    "for n,b in enumerate(bands):\n",
    "    #print(1+2*n,2+2*n)\n",
    "    flux=cosmos[cosmos.colnames[1+2*n]]\n",
    "    flux_err=cosmos[cosmos.colnames[2+2*n]]\n",
    "    data[f\"flux_{b}\"]=flux\n",
    "    flux_cols.append(f\"flux_{b}\")\n",
    "    data[f\"flux_err_{b}\"]=flux_err\n",
    "    flux_err_cols.append(f\"flux_err_{b}\")\n",
    "data[\"redshift\"]=np.array(cosmos[cosmos.colnames[-2]])"
   ]
  },
  {
   "cell_type": "code",
   "execution_count": null,
   "metadata": {},
   "outputs": [],
   "source": [
    "data_io = DS.add_data(\"tomo_bin\", data, TableHandle)"
   ]
  },
  {
   "cell_type": "markdown",
   "metadata": {},
   "source": [
    "We use the inform stage to create the library of SEDs with various redshifts, extinction parameters, and reddening values."
   ]
  },
  {
   "cell_type": "code",
   "execution_count": null,
   "metadata": {},
   "outputs": [],
   "source": [
    "inform_lephare = LephareInformer.make_stage(\n",
    "    name=\"inform_COSMOS\",\n",
    "    nondetect_val=np.nan,\n",
    "    model=\"lephare.pkl\",\n",
    "    hdf5_groupname=\"\",\n",
    "    lephare_config=lephare_config,\n",
    "    bands=flux_cols,\n",
    "    err_bands=flux_err_cols,\n",
    "    ref_band=flux_cols[0],\n",
    ")\n",
    "\n",
    "inform_lephare.inform(data_io)"
   ]
  },
  {
   "cell_type": "markdown",
   "metadata": {},
   "source": [
    "Now we take the sythetic test data, and find the best fits from the library. This results in a PDF, zmode, and zmean for each input test data. "
   ]
  },
  {
   "cell_type": "code",
   "execution_count": null,
   "metadata": {},
   "outputs": [],
   "source": [
    "estimate_lephare = LephareEstimator.make_stage(\n",
    "    name=\"test_Lephare_COSMOS\",\n",
    "    nondetect_val=np.nan,\n",
    "    model=inform_lephare.get_handle(\"model\"),\n",
    "    hdf5_groupname=\"\",\n",
    "    aliases=dict(input=\"test_data\", output=\"lephare_estim\"),\n",
    "    bands=flux_cols,\n",
    "    err_bands=flux_err_cols,\n",
    "    ref_band=flux_cols[0],\n",
    ")\n",
    "\n",
    "lephare_estimated = estimate_lephare.estimate(data_io)"
   ]
  },
  {
   "cell_type": "code",
   "execution_count": null,
   "metadata": {},
   "outputs": [],
   "source": [
    "lephare_config[\"AUTO_ADAPT\"] "
   ]
  },
  {
   "cell_type": "markdown",
   "metadata": {},
   "source": [
    "An example lephare PDF and comparison to the true value"
   ]
  },
  {
   "cell_type": "code",
   "execution_count": null,
   "metadata": {},
   "outputs": [],
   "source": [
    "indx = 1\n",
    "zgrid = np.linspace(0,7,1000)\n",
    "plt.plot(zgrid, np.squeeze(lephare_estimated.data[indx].pdf(zgrid)), label='Estimated PDF')\n",
    "plt.axvline(x=data_io.data['redshift'][indx], color='r', label='True redshift')\n",
    "plt.legend()\n",
    "plt.xlabel('z')\n",
    "plt.show()"
   ]
  },
  {
   "cell_type": "markdown",
   "metadata": {},
   "source": [
    "More example fits"
   ]
  },
  {
   "cell_type": "code",
   "execution_count": null,
   "metadata": {},
   "outputs": [],
   "source": [
    "indxs = [8, 16, 32, 64, 65, 66, 68, 69] #, 128, 256, 512, 1024]\n",
    "zgrid = np.linspace(0,7,1000)\n",
    "fig, axs = plt.subplots(2,4, figsize=(20,6))\n",
    "for i, indx in enumerate(indxs):\n",
    "    ax = axs[i//4, i%4]\n",
    "    ax.plot(zgrid, np.squeeze(lephare_estimated.data[indx].pdf(zgrid)), label='Estimated PDF')\n",
    "    ax.axvline(x=data_io.data['redshift'][indx], color='r', label='True redshift')\n",
    "    ax.set_xlabel('z')"
   ]
  },
  {
   "cell_type": "markdown",
   "metadata": {},
   "source": [
    "Histogram of the absolute difference between lephare estimate and true redshift"
   ]
  },
  {
   "cell_type": "code",
   "execution_count": null,
   "metadata": {},
   "outputs": [],
   "source": [
    "estimate_diff_from_truth = np.abs(lephare_estimated.data.ancil['zmode'] - data['redshift'])\n",
    "\n",
    "plt.figure()\n",
    "plt.hist(estimate_diff_from_truth, 100)\n",
    "plt.xlabel('abs(z_estimated - z_true)')\n",
    "plt.show()"
   ]
  },
  {
   "cell_type": "code",
   "execution_count": null,
   "metadata": {},
   "outputs": [],
   "source": [
    "plt.scatter(data['redshift'],lephare_estimated.data.ancil['Z_BEST'])\n",
    "plt.xlabel('$z_{spec}$')\n",
    "plt.ylabel('$z_{LePHARE}$')"
   ]
  },
  {
   "cell_type": "code",
   "execution_count": null,
   "metadata": {},
   "outputs": [],
   "source": [
    "plt.scatter(data['redshift'],lephare_estimated.data.ancil['zmean'])\n",
    "plt.xlabel('$z_{spec}$')\n",
    "plt.ylabel('$z_{LePHARE}$')"
   ]
  }
 ],
 "metadata": {
  "kernelspec": {
   "display_name": "Python 3 (ipykernel)",
   "language": "python",
   "name": "python3"
  },
  "language_info": {
   "codemirror_mode": {
    "name": "ipython",
    "version": 3
   },
   "file_extension": ".py",
   "mimetype": "text/x-python",
   "name": "python",
   "nbconvert_exporter": "python",
   "pygments_lexer": "ipython3",
   "version": "3.10.0"
  }
 },
 "nbformat": 4,
 "nbformat_minor": 4
}
