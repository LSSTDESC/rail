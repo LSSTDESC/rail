{
 "cells": [
  {
   "cell_type": "markdown",
   "metadata": {},
   "source": [
    "# Running BPZliteEstimator with a custom set of SEDs\n",
    "\n",
    "**Authors:** Sam Schmidt\n",
    "\n",
    "**Last Successfully Run:** Nov 14, 2023"
   ]
  },
  {
   "cell_type": "markdown",
   "id": "85906442-6d29-407a-8d80-4108d45af015",
   "metadata": {},
   "source": [
    "This notebook will go through an example of running rail_bpz estimate and inform stages with a custom set of SEDs.\n",
    "\n",
    "## **NOTE: the SEDs used in this example are SPECIFIC to DESC's cosmoDC2_v1.1.4 data, they contain some non-physical features that would add systematics if run on any real data! DO NOT USE THESE TEMPLATES FOR ANY SCIENCE WITH REAL DATA!**\n",
    "\n",
    "A set of nine SED templates (the non-physical ones from the unfriendly warning above) are included as a tarfile named `nonphysical_dc2_templates.tar`, and are named like `DC2_DONOTUSE_El1.sed`, `DC2_DONOTUSE_Sp1.sed`, and `DC2_DONOTUSE_Im1.sed`.  Here, `El` is for \"elliptical\", `Sp` is for \"spiral\", and `Im` is for \"irregular\".  This dummy set contains two ellipticals, three spirals, and four irregular SED templates.  These templates are not the optimal templates, they are a subset of a larger set that roughly spans the color/type range expected for DC2.  The tarball also contains a file containing a list of all nine names that is needed by `DESC_BPZ`, a file named `baddc2templates.list` (you may be able to tell from the names that we really don't want you to use these SEDs anywhere outside of this demo).  In order for rail_bpz to be able to use these templates, we must move them to the directory where it expects to find all of the SEDs.  The default is to define this relative to `RAILDIR` within RAIL, so let's do that:"
   ]
  },
  {
   "cell_type": "markdown",
   "id": "f6adf3d9-0f22-49d5-bc79-f40af8b294a3",
   "metadata": {},
   "source": [
    "## action needed before running the notebook:"
   ]
  },
  {
   "cell_type": "markdown",
   "id": "0c7e49d7",
   "metadata": {},
   "source": [
    "To download the tarfile from NERSC, execute the cli `get-data` command for bpz demo data:"
   ]
  },
  {
   "cell_type": "code",
   "execution_count": null,
   "id": "cfe0cdbb",
   "metadata": {},
   "outputs": [],
   "source": [
    "!rail get-data --bpz-demo-data"
   ]
  },
  {
   "cell_type": "markdown",
   "id": "a9a7463d",
   "metadata": {},
   "source": [
    "The files must be untarred and moved, as well:"
   ]
  },
  {
   "cell_type": "code",
   "execution_count": null,
   "id": "064164cf-c923-4f34-96ba-5549f6b6df10",
   "metadata": {},
   "outputs": [],
   "source": [
    "from rail.core.utils import RAILDIR\n",
    "import os\n",
    "custom_data_path = RAILDIR + '/rail/examples_data/estimation_data/data'\n",
    "sedpath = RAILDIR + '/rail/examples_data/estimation_data/data/SED'\n",
    "tarpath = RAILDIR + '/rail/examples_data/estimation_data/data/nonphysical_dc2_templates.tar'\n",
    "\n",
    "os.environ['tempbpzsedpath'] = sedpath\n",
    "os.environ['tempbpztarpath'] = tarpath\n",
    "!tar -xvf $tempbpztarpath\n",
    "!mv DC2_DONOTUSE*.sed $tempbpzsedpath\n",
    "!mv baddc2templates.list $tempbpzsedpath"
   ]
  },
  {
   "cell_type": "code",
   "execution_count": null,
   "id": "9941e477-a8c2-4dd7-bb97-f325672d7936",
   "metadata": {},
   "outputs": [],
   "source": [
    "!echo $tempbpzsedpath"
   ]
  },
  {
   "cell_type": "markdown",
   "id": "a0d9bdc4-6022-4668-b003-686489e13ccd",
   "metadata": {},
   "source": [
    "This should have successfully copied the files to the proper SED directory. Now, we can proceed in the same manner that we did in the `BPZ_lite_demo.ipynb` notebook:"
   ]
  },
  {
   "cell_type": "code",
   "execution_count": null,
   "id": "21de9fd6-30aa-4856-ab8a-245499a5de86",
   "metadata": {},
   "outputs": [],
   "source": [
    "import os\n",
    "import qp\n",
    "import pickle\n",
    "import matplotlib.pyplot as plt\n",
    "import numpy as np\n",
    "import pandas as pd\n",
    "import desc_bpz\n",
    "from rail.core.data import TableHandle\n",
    "from rail.core.stage import RailStage\n",
    "from rail.estimation.algos.bpz_lite import BPZliteInformer, BPZliteEstimator"
   ]
  },
  {
   "cell_type": "markdown",
   "id": "b04c8503-74ee-4de7-b0f7-a2d8d1398db7",
   "metadata": {},
   "source": [
    "First, let's set up a DataStore, for more info on the DataStore, see the RAIL example notebooks:"
   ]
  },
  {
   "cell_type": "code",
   "execution_count": null,
   "id": "5190c489-b80c-4f4c-9eb0-19b3efe42cd8",
   "metadata": {},
   "outputs": [],
   "source": [
    "DS = RailStage.data_store\n",
    "DS.__class__.allow_overwrite = True"
   ]
  },
  {
   "cell_type": "markdown",
   "id": "2ab08dcf-72d2-4a6f-8037-14301f922c17",
   "metadata": {},
   "source": [
    "First, let's grab the training and test data files that we will use in this example, they are included with RAIL, so we can access their location via the RAILDIR path.  Both file contain data drawn from the cosmoDC2_v1.1.4 truth extragalactic catalog generated by DESC with model 10-year-depth magnitude uncertainties.  The training data contains roughly 10,000 galaxies, while the test data contains roughly 20,000.  Both sets are representative down to a limiting apparent magnitude."
   ]
  },
  {
   "cell_type": "code",
   "execution_count": null,
   "id": "c1e74f88-a0d4-42af-a4ac-4deefd0c8cc5",
   "metadata": {},
   "outputs": [],
   "source": [
    "trainFile = os.path.join(RAILDIR, 'rail/examples_data/testdata/test_dc2_training_9816.hdf5')\n",
    "testFile = os.path.join(RAILDIR, 'rail/examples_data/testdata/test_dc2_validation_9816.hdf5')\n",
    "training_data = DS.read_file(\"training_data\", TableHandle, trainFile)\n",
    "test_data = DS.read_file(\"test_data\", TableHandle, testFile)"
   ]
  },
  {
   "cell_type": "markdown",
   "id": "e80d59ce-ca73-4bf3-9f3d-682c4dbdcb3e",
   "metadata": {},
   "source": [
    "## BPZliteInformer: training a custom prior with our new SEDs\n",
    "\n",
    "We will run the inform stage just as we did in the main demo notebook; however, we will have to define a few extra configuration parameters in order to tell BPZliteInformer to use our new SEDs.  We specify the SED set using the `spectra_file` configuration parameter, which points to an ascii file that contains the names of the SEDs, which must be sorted in the same order as the \"broad type array\" (usually done in ascending rest-frame \"blueness\", that is Elliptical red galaxies first, then increasingly blue galaxies). In this case, the tar file that we copied to the SED directory contained this file, named `baddc2templates.list`.   As before, we need a \"best fit type\" for each of the galaxies in our training set. And, as before, this has been computed separately (computing best type within rail_bpz will be added in the future).  The best fit broad types are available in a dictionary stored in the file `test_dc2_train_customtemp_broadttypes.hdf5`, which we will point to with the `type_file` config parameter.  This file should already exist in this directory.  As stated above, we have two Elliptical, three Spiral, and four Irregular/Starburst seds, so we'll set the `nt_array` configuration parameter to a list `[2, 3, 4]` to specify those numbers of the three broad types."
   ]
  },
  {
   "cell_type": "code",
   "execution_count": null,
   "id": "5a283f01-f110-436c-9bf1-ec9d702782f3",
   "metadata": {},
   "outputs": [],
   "source": [
    "train_dict = dict(hdf5_groupname=\"photometry\", model=\"test_9816_customsed_demo_prior.pkl\",\n",
    "                  spectra_file=\"baddc2templates.list\",\n",
    "                  type_file=os.path.join(RAILDIR, \"rail/examples_data/estimation_data/data/test_dc2_train_customtemp_broadttypes.hdf5\"),\n",
    "                  prior_band=\"mag_i_lsst\",\n",
    "                  nt_array=[2,3,4])\n",
    "run_bpz_train = BPZliteInformer.make_stage(name=\"bpz_custom_sed_prior\", **train_dict)"
   ]
  },
  {
   "cell_type": "code",
   "execution_count": null,
   "id": "9f2e34ec-19d2-4be6-9c06-35574d5fd798",
   "metadata": {},
   "outputs": [],
   "source": [
    "%%time\n",
    "run_bpz_train.inform(training_data)"
   ]
  },
  {
   "cell_type": "markdown",
   "id": "76adebff-ee70-46a1-99d9-bfaf494b4e80",
   "metadata": {},
   "source": [
    "So, we've created a new prior named `test_9816_customsed_demo_prior.pkl` which should have appeared in this directory.  We can visualize the prior using the `prior_function` function from DESC_BPZ to generate prior values for our broad types.  We can compare our new prior to that of the default HDFN prior that we ran initially.  The model files simply store a set of parameters in a dictionary that `prior_function` uses to produce the prior values.\n",
    "\n",
    "**NOTE:** if you want to learn the meaning of these parameters, you can read the original BPZ paper, Benitez (2000) here: https://ui.adsabs.harvard.edu/abs/2000ApJ...536..571B/abstract"
   ]
  },
  {
   "cell_type": "code",
   "execution_count": null,
   "id": "87139650-0404-4a83-8b5e-34328cbd5374",
   "metadata": {},
   "outputs": [],
   "source": [
    "from desc_bpz.prior_from_dict import prior_function\n",
    "hdfnfile = os.path.join(RAILDIR, \"rail/examples_data/estimation_data/data/CWW_HDFN_prior.pkl\")\n",
    "with open(hdfnfile, \"rb\") as f:\n",
    "    hdfnmodel = pickle.load(f)\n",
    "hdfnmodel"
   ]
  },
  {
   "cell_type": "code",
   "execution_count": null,
   "id": "a3c748e5-316f-4d6d-b9ce-0ca7344d063d",
   "metadata": {},
   "outputs": [],
   "source": [
    "with open(\"test_9816_customsed_demo_prior.pkl\", \"rb\") as f:\n",
    "    newmodel = pickle.load(f)\n",
    "newmodel"
   ]
  },
  {
   "cell_type": "markdown",
   "id": "1e70cc21-cf62-4904-9eaf-6997573218b3",
   "metadata": {},
   "source": [
    "`prior_with_dict` takes four arguments: a redshift grid, a magnitude (it is an apparent magnitude-dependent prior), the modeldict, and the number of templates in our SED set as arguments.  Let's generate priors for mag=23, and then for mag=25:"
   ]
  },
  {
   "cell_type": "code",
   "execution_count": null,
   "id": "06d073a1-7866-4379-8da3-f92f385447c4",
   "metadata": {},
   "outputs": [],
   "source": [
    "zgrid=np.linspace(0,3,301)\n",
    "defprior20 = prior_function(zgrid, 20., hdfnmodel, 8)\n",
    "defprior23 = prior_function(zgrid, 23., hdfnmodel, 8)\n",
    "defprior25 = prior_function(zgrid, 25., hdfnmodel, 8)"
   ]
  },
  {
   "cell_type": "code",
   "execution_count": null,
   "id": "fa22222b-7136-44b0-87d3-da324ccd5b81",
   "metadata": {},
   "outputs": [],
   "source": [
    "newprior23 = prior_function(zgrid, 23., newmodel, 8)\n",
    "newprior25 = prior_function(zgrid, 25., newmodel, 8)\n",
    "newprior20 = prior_function(zgrid, 20., newmodel, 8)"
   ]
  },
  {
   "cell_type": "markdown",
   "id": "1af8b995-829a-4737-8613-5da1c24f7bcb",
   "metadata": {},
   "source": [
    "We will plot the prior for the elliptical, one spiral, and one irregular to compare.  Note the BPZ divides up the probability in each broad type equally amongst the N templates in that broad type, so we will multiply by that number to get the total prior probability for the entire broad type, in our case 1 Elliptical SED, 2 Spiral SEDs, and 5 Irr/SB SEDs:"
   ]
  },
  {
   "cell_type": "code",
   "execution_count": null,
   "id": "00d8eb57-1af4-4b3e-b479-6a75ec8bc1fb",
   "metadata": {},
   "outputs": [],
   "source": [
    "seddict = {'El': 0, 'Sp': 1, 'Irr/SB': 7}\n",
    "multiplier = [1.0, 2.0, 5.0]\n",
    "sedcol = ['r', 'm', 'b']\n",
    "fig, (axs, axs2, axs3) = plt.subplots(3, 1, figsize=(10,12))\n",
    "for sed, col, multi in zip(seddict, sedcol, multiplier):\n",
    "    axs.plot(zgrid, defprior20[:,seddict[sed]]*multi, color=col, lw=2,ls='--', label=f\"hdfn prior {sed}\")\n",
    "    axs.plot(zgrid, newprior20[:,seddict[sed]]*multi, color=col, ls='-', label=f\"new prior {sed}\")\n",
    "    axs.set_title(\"priors for mag=20.0\")\n",
    "    axs2.plot(zgrid, defprior23[:,seddict[sed]]*multi, color=col, lw=2,ls='--', label=f\"hdfn prior {sed}\")\n",
    "    axs2.plot(zgrid, newprior23[:,seddict[sed]]*multi, color=col, ls='-', label=f\"new prior {sed}\")\n",
    "    axs2.set_title(\"priors for mag=23.0\")\n",
    "    axs3.plot(zgrid, defprior25[:,seddict[sed]]*multi, color=col, lw=2,ls='--', label=f\"hdfn prior {sed}\")\n",
    "    axs3.plot(zgrid, newprior25[:,seddict[sed]]*multi, color=col, ls='-', label=f\"new prior {sed}\")\n",
    "    axs3.set_xlabel(\"redshift\")\n",
    "    axs3.set_title(\"priors for mag=25.0\")\n",
    "    axs3.set_ylabel(\"prior_probability\")\n",
    "    axs.set_ylabel(\"prior probability\")\n",
    "axs.legend(loc=\"upper right\", fontsize=10)"
   ]
  },
  {
   "cell_type": "markdown",
   "id": "b074cb1e-53bb-4953-82e3-1677667d4f5f",
   "metadata": {},
   "source": [
    "We see slightly more dramatic differences than we had with the same \"CWWSB\" templates used in the main demo notebook, which is to be expected, given the different SED shapes and numbers of SEDs of each type: we're defining a fairly different mapping into three \"broad\" types, and so a direct comparison is hard to do.  "
   ]
  },
  {
   "cell_type": "markdown",
   "id": "82d0919d-5842-4297-9a03-3838c6be6a2c",
   "metadata": {},
   "source": [
    "Now, let's re-run BPZliteEstimator using this new prior and see if our results are any different:"
   ]
  },
  {
   "cell_type": "code",
   "execution_count": null,
   "id": "00c43a9a-4afe-4d8b-8aeb-5cd4845bdbe0",
   "metadata": {},
   "outputs": [],
   "source": [
    "custom_dict = dict(hdf5_groupname=\"photometry\",\n",
    "                   spectra_file=\"baddc2templates.list\",\n",
    "                   output=\"bpz_results_customprior.hdf5\", \n",
    "                   prior_band='mag_i_lsst',\n",
    "                   data_path=custom_data_path,\n",
    "                   no_prior=False)\n",
    "custom_run = BPZliteEstimator.make_stage(name=\"rerun_bpz\", **custom_dict, \n",
    "                                 model=run_bpz_train.get_handle('model'))"
   ]
  },
  {
   "cell_type": "markdown",
   "id": "2ae7bdd8-bd48-4dc5-886a-3461ae3b1935",
   "metadata": {},
   "source": [
    "Let's compute the estimate, and note that if this is the first time that you've run BPZ, you will see a bunch of lines print out as the code creates \"AB\" files (the model flux files used by BPZ and stored for later use) for the first time."
   ]
  },
  {
   "cell_type": "code",
   "execution_count": null,
   "id": "1fd05674-9cb6-4c0f-94dc-f3947d711f41",
   "metadata": {},
   "outputs": [],
   "source": [
    "%%time\n",
    "custom_run.estimate(test_data)"
   ]
  },
  {
   "cell_type": "code",
   "execution_count": null,
   "id": "17e9e158-708c-4dc0-b763-838123eaabf8",
   "metadata": {},
   "outputs": [],
   "source": [
    "custom_res = qp.read(\"bpz_results_customprior.hdf5\")\n"
   ]
  },
  {
   "cell_type": "code",
   "execution_count": null,
   "id": "59e8a8e9-45da-4870-95f1-e48d93209c81",
   "metadata": {},
   "outputs": [],
   "source": [
    "sz = test_data()['photometry']['redshift']"
   ]
  },
  {
   "cell_type": "markdown",
   "id": "8810b988-4c59-4a30-b0b9-8c2da6af76e1",
   "metadata": {},
   "source": [
    "And let's plot the modes fore this new run as well as our run with the default prior:"
   ]
  },
  {
   "cell_type": "code",
   "execution_count": null,
   "id": "b8380c0e-6632-42fd-ab7e-bfa057f68ff9",
   "metadata": {},
   "outputs": [],
   "source": [
    "plt.figure(figsize=(8,8))\n",
    "plt.scatter(sz, custom_res.ancil['zmode'].flatten(), s=2, c='k', label='custom SED zmode')\n",
    "plt.plot([0,3], [0,3], 'r--')\n",
    "plt.xlabel(\"redshift\")\n",
    "plt.ylabel(\"photo-z mode\")\n",
    "plt.legend(loc='upper center', fontsize=10)"
   ]
  },
  {
   "cell_type": "markdown",
   "id": "70a724ac-853c-45e7-babc-0679d05072e0",
   "metadata": {},
   "source": [
    "Things look pretty dramatically different than they did with our CWW/SB templates, we see reduced scatter, less bias overall, and very different outlier population, with almost no galaxies now residing in the upper-left of the plot, fewer in the lower-right, but a new population just above the zmode=zspec line at higher redshifts.\n",
    "\n",
    "As mentioned above, there are some quirks to the SEDs that make up the cosmoDC2 simulation that are slightly different from the galaxies in the local Universe, which are a better match to the CWW/SB templates (which themselves are mostly derived from empirical local galaxy SEDs).  As our new \"custom\" SEDs better reflect the galaxies of cosmoDC2, it's not surprising that we see improved photo-z performance.  Let's compute a few point-estimate metrics to compare to those calculated in the main demo notebook with the CWW/SB templates."
   ]
  },
  {
   "cell_type": "markdown",
   "id": "c10aad14-fa9f-4bf4-86a6-1afa27d8f3c9",
   "metadata": {},
   "source": [
    "## Point estimate metrics\n",
    "\n",
    "Let's see if our point estimate metrics have improved at all given the tuned prior.  These metrics take in arrays of the point estimates (we'll use the mode) and the true redshifts."
   ]
  },
  {
   "cell_type": "code",
   "execution_count": null,
   "id": "877a1e03-7eac-4c18-965d-3121cd33e2b1",
   "metadata": {},
   "outputs": [],
   "source": [
    "from rail.evaluation.metrics.pointestimates import PointSigmaIQR, PointBias, PointOutlierRate, PointSigmaMAD"
   ]
  },
  {
   "cell_type": "code",
   "execution_count": null,
   "id": "cbf679db-395e-4e95-865b-2091a3d147eb",
   "metadata": {},
   "outputs": [],
   "source": [
    "custom_sigma_eval = PointSigmaIQR(custom_res.ancil['zmode'].flatten(), sz)"
   ]
  },
  {
   "cell_type": "code",
   "execution_count": null,
   "id": "014cfef9-9097-4b07-9463-804c30b38f57",
   "metadata": {},
   "outputs": [],
   "source": [
    "custom_sigma = custom_sigma_eval.evaluate()"
   ]
  },
  {
   "cell_type": "code",
   "execution_count": null,
   "id": "7d43179c-006f-42c9-afc8-ca794b26dde2",
   "metadata": {},
   "outputs": [],
   "source": [
    "print(\"custom SED sigma: %.4f\" % (custom_sigma))"
   ]
  },
  {
   "cell_type": "code",
   "execution_count": null,
   "id": "eb95d4ff-1a8d-4b75-8229-0616da64d45d",
   "metadata": {},
   "outputs": [],
   "source": [
    "custom_bias_eval = PointBias(custom_res.ancil['zmode'].flatten(), sz)"
   ]
  },
  {
   "cell_type": "code",
   "execution_count": null,
   "id": "ba063f56-d078-477e-8227-c160a7552233",
   "metadata": {},
   "outputs": [],
   "source": [
    "custom_bias = custom_bias_eval.evaluate()\n",
    "print(\"custom SED bias: %.4f\" % (custom_bias))"
   ]
  },
  {
   "cell_type": "markdown",
   "id": "c2d16539-73da-4e19-9965-c7ea468b08de",
   "metadata": {},
   "source": [
    "Indeed, we see an improvement in the sigma from 0.057-0.059 with the CWW/SB templates to 0.0438 with our new templates and custom prior, and a much smaller bias of 0.0082 compared to -0.026 in the CWW/SB case (run the other notebook to see these numbers)!"
   ]
  },
  {
   "cell_type": "code",
   "execution_count": null,
   "id": "a98f366d-45a0-4f7a-928b-2e71962f9d4a",
   "metadata": {},
   "outputs": [],
   "source": [
    "custom_outlier_eval = PointOutlierRate(custom_res.ancil['zmode'].flatten(), sz)"
   ]
  },
  {
   "cell_type": "code",
   "execution_count": null,
   "id": "068610e9-c213-478d-92de-edd2adca0b65",
   "metadata": {},
   "outputs": [],
   "source": [
    "custom_outlier = custom_outlier_eval.evaluate()\n",
    "print(\"custom SED outlier rate: %.4f\" % (custom_outlier))"
   ]
  },
  {
   "cell_type": "markdown",
   "id": "771fda8f-f89b-4d98-aedd-cfcde34389f4",
   "metadata": {},
   "source": [
    "We see a higher outlier rate here; however, our ourlier rate is defined in terms of those galaxies outside of three sigma, as defined by PointSigmaIQR, and with a smaller sigma the number of outliers is not really as easy to directly compare.  As in the main demo notebook, let's compute the fraction of galaxies with (zmode - specz) / (1 + specz) > 0.15:"
   ]
  },
  {
   "cell_type": "code",
   "execution_count": null,
   "id": "0b354702-02c0-4d3a-b0d0-92e3a3c9d35f",
   "metadata": {},
   "outputs": [],
   "source": [
    "from rail.evaluation.metrics.pointestimates import PointStatsEz\n",
    "custom_ez_eval = PointStatsEz(custom_res.ancil['zmode'].flatten(), sz)\n",
    "custom_ez = custom_ez_eval.evaluate()\n",
    "custom_outlier_frac = (np.sum((np.abs(custom_ez) > 0.15))) / len(sz)\n",
    "print(\"fraction of catastrophic outliers: %.4f\" % custom_outlier_frac)"
   ]
  },
  {
   "cell_type": "markdown",
   "id": "ceb39491-2b0e-4874-9672-66a406d17831",
   "metadata": {},
   "source": [
    "So, our catastrophic outlier fraction remains similar but slightly higher than in the CWW/SB template case, even if the distribution and character of those outliers is now dramatically different."
   ]
  },
  {
   "cell_type": "markdown",
   "id": "06917cc6-054a-4d0d-837a-1a26adb4ceb6",
   "metadata": {},
   "source": [
    "Finally, we'll plot an example PDF.  Given that we are now comparing to a completely different set of SEDs with different predicted fluxes, we can expect different chi^2 values, and thus a complately different likelihood or posterior shape:"
   ]
  },
  {
   "cell_type": "code",
   "execution_count": null,
   "id": "95577a24-cd73-4446-8216-f0d3b77da86d",
   "metadata": {},
   "outputs": [],
   "source": [
    "whichone = 109\n",
    "fig, axs = plt.subplots(1,1, figsize=(10,6))\n",
    "custom_res.plot_native(key=whichone, axes=axs, label=\"custom SED\")\n",
    "axs.set_xlabel(\"redshift\")\n",
    "axs.set_ylabel(\"PDF\")\n",
    "axs.legend(loc=\"upper center\", fontsize=10)"
   ]
  },
  {
   "cell_type": "markdown",
   "id": "fadca88b-a81a-422d-9eba-51bd20b6191c",
   "metadata": {},
   "source": [
    "Yes, in our one example PDF, number 109, we see almost no peak at high redshift, but rather a new peak at z~0.6, again demonstrating just how large of an impact the SED template set used has on photo-z results."
   ]
  }
 ],
 "metadata": {
  "kernelspec": {
   "display_name": "Python 3 (ipykernel)",
   "language": "python",
   "name": "python3"
  },
  "language_info": {
   "codemirror_mode": {
    "name": "ipython",
    "version": 3
   },
   "file_extension": ".py",
   "mimetype": "text/x-python",
   "name": "python",
   "nbconvert_exporter": "python",
   "pygments_lexer": "ipython3",
   "version": "3.11.6"
  }
 },
 "nbformat": 4,
 "nbformat_minor": 5
}
