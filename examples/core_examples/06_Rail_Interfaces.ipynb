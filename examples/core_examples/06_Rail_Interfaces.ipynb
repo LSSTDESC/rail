{
 "cells": [
  {
   "cell_type": "markdown",
   "id": "c5031d27-2bb9-43a6-a789-b490d4593040",
   "metadata": {},
   "source": [
    "RAIL Interface demo for p(z) estimation\n",
    "\n",
    "Author: Eric Charles\n",
    "\n",
    "Last Successfully Run: July 24, 2024\n",
    "\n",
    "This notebook will demonstrate how to use the rail.interfaces package to construct an object that can estimate p(z) either for every object in an input catalog file that contains fluxes in various bands, or from a dictionary of numpy arrays with fluxes in band."
   ]
  },
  {
   "cell_type": "code",
   "execution_count": null,
   "id": "254f2213-3589-4018-9fed-876d73df903e",
   "metadata": {},
   "outputs": [],
   "source": [
    "# standard utility imports\n",
    "import matplotlib.pyplot as plt\n",
    "import numpy as np"
   ]
  },
  {
   "cell_type": "code",
   "execution_count": null,
   "id": "7319a08d-5cb7-495f-84fc-4c6112ad403c",
   "metadata": {},
   "outputs": [],
   "source": [
    "# rail-related inputs\n",
    "import qp\n",
    "from rail.utils.path_utils import find_rail_file"
   ]
  },
  {
   "cell_type": "code",
   "execution_count": null,
   "id": "a141efc7-4c02-4d52-b760-5a36c01c78d5",
   "metadata": {},
   "outputs": [],
   "source": [
    "# import the PZFactory that we will use as the interface\n",
    "from rail.interfaces import PZFactory"
   ]
  },
  {
   "cell_type": "code",
   "execution_count": null,
   "id": "b5931ba1-6ca3-4c3a-a958-c670b6f5ea3b",
   "metadata": {},
   "outputs": [],
   "source": [
    "# find a catalog file with 10 object for a quick demonstration\n",
    "input_file = find_rail_file('examples_data/testdata/validation_10gal.hdf5')"
   ]
  },
  {
   "cell_type": "code",
   "execution_count": null,
   "id": "f337cbe7-696c-4c92-b86b-42a41bda2dc6",
   "metadata": {},
   "outputs": [],
   "source": [
    "help(PZFactory)"
   ]
  },
  {
   "cell_type": "markdown",
   "id": "71d4dec4-90e2-4048-8291-f1b7432d0b50",
   "metadata": {},
   "source": [
    "We are going to use a `TrainZEstimator` which just returns the same pdf (typically the overall z distribution of the training sample) every time."
   ]
  },
  {
   "cell_type": "code",
   "execution_count": null,
   "id": "2bcf51c5-3197-438a-b783-6ca4fb6de4cc",
   "metadata": {},
   "outputs": [],
   "source": [
    "stage = PZFactory.build_cat_estimator_stage(\n",
    "    stage_name = 'train_z',\n",
    "    class_name = 'TrainZEstimator',\n",
    "    module_name = 'rail.estimation.algos.train_z',\n",
    "    model_path = 'model_inform_trainz.pkl',\n",
    "    data_path = 'dummy.in',\n",
    ")"
   ]
  },
  {
   "cell_type": "markdown",
   "id": "774d1e92-a457-4793-a7ee-4f06e1addea0",
   "metadata": {},
   "source": [
    "Note that we cached the stage object so that we don't have to recreate it each time we want it"
   ]
  },
  {
   "cell_type": "code",
   "execution_count": null,
   "id": "601521b7-2de3-4afc-be66-c980b81f4d90",
   "metadata": {},
   "outputs": [],
   "source": [
    "check_stage = PZFactory.get_cat_estimator_stage('train_z')\n",
    "assert check_stage == stage"
   ]
  },
  {
   "cell_type": "markdown",
   "id": "deb24eb2-4c02-4be8-96c3-1d7b25e2d50b",
   "metadata": {},
   "source": [
    "Here we evalute a single p(z)"
   ]
  },
  {
   "cell_type": "code",
   "execution_count": null,
   "id": "efc403f9-3a70-4fe9-9744-840850c618c1",
   "metadata": {},
   "outputs": [],
   "source": [
    "out_single = PZFactory.estimate_single_pz(stage, {'d':np.array([1,1])})"
   ]
  },
  {
   "cell_type": "markdown",
   "id": "110ce70f-9c03-46f7-ad01-14d8bbf4c68a",
   "metadata": {},
   "source": [
    "Note that the return object is a qp ensemble with a single pdf"
   ]
  },
  {
   "cell_type": "code",
   "execution_count": null,
   "id": "f33b51d2-29f1-45df-a96f-6b346b54e219",
   "metadata": {},
   "outputs": [],
   "source": [
    "out_single"
   ]
  },
  {
   "cell_type": "code",
   "execution_count": null,
   "id": "f2e5372b-7ab3-4cea-9d87-03e10b8ce506",
   "metadata": {},
   "outputs": [],
   "source": [
    "out_single.npdf"
   ]
  },
  {
   "cell_type": "markdown",
   "id": "10ed469a-f2aa-49e3-aeeb-0c4712b238dc",
   "metadata": {},
   "source": [
    "We can evaluate the pdf on a grid and plot the values"
   ]
  },
  {
   "cell_type": "code",
   "execution_count": null,
   "id": "b8a2358f-7842-401d-88ee-9f7b4785f602",
   "metadata": {},
   "outputs": [],
   "source": [
    "zgrid = np.linspace(0, 1.5, 151)"
   ]
  },
  {
   "cell_type": "code",
   "execution_count": null,
   "id": "89834e89-bcac-4f03-9968-bc02a70fdbc8",
   "metadata": {},
   "outputs": [],
   "source": [
    "_ = plt.plot(zgrid, np.squeeze(out_single.pdf(zgrid)))\n",
    "_ = plt.xlabel('z')\n",
    "_ = plt.ylabel('p(z)')"
   ]
  },
  {
   "cell_type": "markdown",
   "id": "0616b8a4-98df-4bd1-99c7-0a1b2445d7cb",
   "metadata": {},
   "source": [
    "Here we evaluate p(z) for all the objects in a file"
   ]
  },
  {
   "cell_type": "code",
   "execution_count": null,
   "id": "6abd9c03-3a64-49ba-966b-b4b3fd30a0d8",
   "metadata": {},
   "outputs": [],
   "source": [
    "out_handle = PZFactory.run_cat_estimator_stage(\n",
    "    stage,\n",
    "    input_file,\n",
    ")"
   ]
  },
  {
   "cell_type": "markdown",
   "id": "1a3723b0-ec4c-4eb2-8af8-8018d249b13b",
   "metadata": {},
   "source": [
    "Note that this returns a `DataHandle` that we can use to access the output data.\n",
    "In this case it has 10 pdfs (one for each input object)"
   ]
  },
  {
   "cell_type": "code",
   "execution_count": null,
   "id": "c3a9c84d-1ea5-4bc9-9e76-c09cbbd6b492",
   "metadata": {},
   "outputs": [],
   "source": [
    "data = qp.read(out_handle.path)"
   ]
  },
  {
   "cell_type": "code",
   "execution_count": null,
   "id": "9e3d211e-87f1-46e1-80f4-64ca122bdbf8",
   "metadata": {},
   "outputs": [],
   "source": [
    "data.npdf"
   ]
  },
  {
   "cell_type": "markdown",
   "id": "1cbf287e-7e11-4459-b1ee-35fa411a96a6",
   "metadata": {},
   "source": [
    "Here we plot the pdf of the first object.  Because train_z returns the same pdf every time, this is identical to the one above."
   ]
  },
  {
   "cell_type": "code",
   "execution_count": null,
   "id": "f00c8ec0-a20c-4def-a7cf-006aaf368b34",
   "metadata": {},
   "outputs": [],
   "source": [
    "_ = plt.plot(zgrid, np.squeeze(data[0].pdf(zgrid)))\n",
    "_ = plt.xlabel('z')\n",
    "_ = plt.ylabel('p(z)')"
   ]
  },
  {
   "cell_type": "markdown",
   "id": "ee1b3b1b-b455-4567-8d85-ef7f11f24857",
   "metadata": {},
   "source": [
    "Let's clean up after ourselves"
   ]
  },
  {
   "cell_type": "code",
   "execution_count": null,
   "id": "79afb24c-81a1-47c7-a33a-6bf0ab5d1e13",
   "metadata": {},
   "outputs": [],
   "source": [
    "import os\n",
    "try:\n",
    "    os.unlink('inprogress_output_train_z.hdf5')\n",
    "except:\n",
    "    pass\n",
    "try:\n",
    "    os.unlink('output_train_z.hdf5')\n",
    "except:\n",
    "    pass"
   ]
  },
  {
   "cell_type": "code",
   "execution_count": null,
   "id": "071f363f-42f0-48ca-8a3a-f8aa23ca83f8",
   "metadata": {},
   "outputs": [],
   "source": []
  }
 ],
 "metadata": {
  "kernelspec": {
   "display_name": "Python 3 (ipykernel)",
   "language": "python",
   "name": "python3"
  },
  "language_info": {
   "codemirror_mode": {
    "name": "ipython",
    "version": 3
   },
   "file_extension": ".py",
   "mimetype": "text/x-python",
   "name": "python",
   "nbconvert_exporter": "python",
   "pygments_lexer": "ipython3",
   "version": "3.11.4"
  }
 },
 "nbformat": 4,
 "nbformat_minor": 5
}
