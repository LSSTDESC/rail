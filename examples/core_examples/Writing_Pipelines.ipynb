{
 "cells": [
  {
   "cell_type": "markdown",
   "metadata": {},
   "source": [
    "# Intro to Writing a Pipeline\n",
    "\n",
    "author\n",
    "\n",
    "last run successfully"
   ]
  },
  {
   "cell_type": "code",
   "execution_count": 1,
   "metadata": {},
   "outputs": [
    {
     "name": "stdout",
     "output_type": "stream",
     "text": [
      "Imported rail.hub\n",
      "Imported rail.astro_tools\n",
      "Imported rail.core\n",
      "Imported rail.stages\n",
      "Imported rail.bpz\n",
      "Imported rail.cmnn\n",
      "Imported rail.delight\n",
      "Failed to import rail.dsps because: You need to have the SPS_HOME environment variable\n",
      "Imported rail.flexzboost\n",
      "Failed to import rail.gpz because: No module named 'rail.estimation.algos.gpz_v1'\n",
      "Imported rail.pipelines\n",
      "Failed to import rail.pzflow because: No module named 'rail.estimation.algos.pzflow'\n",
      "Imported rail.sklearn\n",
      "Imported rail.som\n",
      "Attached 10 base classes and 46 fully formed stages to rail.stages\n"
     ]
    }
   ],
   "source": [
    "#imports\n",
    "import os\n",
    "import numpy as np\n",
    "\n",
    "# TODO look into these\n",
    "from rail.core.utils import RAILDIR\n",
    "#from rail.estimation.algos.bpz_version.utils import RAIL_BPZ_DIR\n",
    "\n",
    "from rail.core import common_params\n",
    "\n",
    "# TODO how to use\n",
    "import rail.stages\n",
    "rail.stages.import_and_attach_all()\n",
    "from rail.stages import *\n",
    "\n",
    "\n",
    "#from rail.core.data import TableHandle\n",
    "#from rail.core.stage import RailStage"
   ]
  },
  {
   "cell_type": "markdown",
   "metadata": {},
   "source": [
    "### Set directory paths\n",
    "early on set RAILDIR, BPZDIR so you can find configs shipped with the packages (artifact of directory differences between the ez install vs from source)"
   ]
  },
  {
   "cell_type": "code",
   "execution_count": 2,
   "metadata": {},
   "outputs": [],
   "source": [
    "RAIL_BPZ_DIR = \"/Users/orl/code/DESC-RAIL/rail_bpz/src\"\n",
    "# TODO is there an easy way to get bpz dir programmatically? or at least, remember to make this generic before push"
   ]
  },
  {
   "cell_type": "markdown",
   "metadata": {},
   "source": [
    "### Catalog-specific settings\n",
    "\n",
    "defining stuff thats diff from hsc vs dc2, things that are different for the catalog\n",
    "\n",
    "to go between catalogs, you “just have to change the first two cells” (this was while in estimate_all_hsc?) → changing names of the bands & changing common_params (and also the input file)\n",
    "\n",
    "this is hsc stuff:"
   ]
  },
  {
   "cell_type": "code",
   "execution_count": 3,
   "metadata": {},
   "outputs": [],
   "source": [
    "bands = 'grizy'\n",
    "maglims = [27.66, 27.25, 26.6, 26.24, 25.35]\n",
    "maglim_dict={}\n",
    "for band,limx in zip(bands, maglims):\n",
    "    maglim_dict[f\"HSC{band}_cmodel_dered\"] = limx"
   ]
  },
  {
   "cell_type": "markdown",
   "metadata": {},
   "source": [
    "### Setting common parameters to all the stages in the estimation\n",
    "\n",
    "setting the defaults for the individual parameters, before making any stages\n",
    "\n",
    "when you make a stage, it copies the current common_params so if you change it elsewhere it stays the same for the stage"
   ]
  },
  {
   "cell_type": "code",
   "execution_count": 4,
   "metadata": {},
   "outputs": [],
   "source": [
    "common_params.set_param_defaults(\n",
    "    bands=[f'HSC{band}_cmodel_dered' for band in bands],\n",
    "    err_bands=[f'{band}_cmodel_magerr' for band in bands],\n",
    "    nondetect_val=np.nan,\n",
    "    ref_band='HSCi_cmodel_dered',\n",
    "    redshift_col='specz_redshift',\n",
    "    mag_limits=maglim_dict,\n",
    "    zmax = 6.0,\n",
    ")"
   ]
  },
  {
   "cell_type": "markdown",
   "metadata": {},
   "source": [
    "### Set datastore\n",
    "\n",
    "explain datastore briefly, then reference datastore notebook"
   ]
  },
  {
   "cell_type": "code",
   "execution_count": 5,
   "metadata": {},
   "outputs": [],
   "source": [
    "\n",
    "DS = RailStage.data_store\n",
    "DS.__class__.allow_overwrite = True"
   ]
  },
  {
   "cell_type": "markdown",
   "metadata": {},
   "source": [
    "at some point mention:\n",
    "- dir(pipe)\n",
    "- and other useful things, but reference utilities nb? or keep here \n",
    "\n",
    "\n",
    "\n",
    "is there a way to list out all possible stages we could add?\n",
    "\n",
    "from RAIL_estimation_demo:\n",
    "\n",
    "> Getting the list of available Estimators\n",
    "\n",
    "RailStage knows about all of the sub-types of stages.  The are stored in the `RailStage.pipeline_stages` dict.  By looping through the values in that dict we can and asking if each one is a sub-class of `rail.estimation.estimator.CatEstimator` we can identify the available estimators that operator on catalog-like inputs.\n",
    "\n",
    "Note: after my talk with Eric -> it's important to mention that these will only identify stages that you've imported. so if you're doing the import and attach import style, they'll all be there, but if you're importing indiviudal stages, only some will be added to the dict. Eric says this is primarily used for debugging, though the fact that Sam included this in a notebook in a more human-readable exploration-oriented way does feel like this is a valid use as well."
   ]
  },
  {
   "cell_type": "code",
   "execution_count": 6,
   "metadata": {},
   "outputs": [
    {
     "name": "stdout",
     "output_type": "stream",
     "text": [
      "FlowModeler : <class 'rail.creation.engines.flowEngine.FlowModeler'>\n",
      "FlowCreator : <class 'rail.creation.engines.flowEngine.FlowCreator'>\n",
      "FlowPosterior : <class 'rail.creation.engines.flowEngine.FlowPosterior'>\n"
     ]
    }
   ],
   "source": [
    "for key in RailStage.pipeline_stages:\n",
    "    if 'engines' in str(RailStage.pipeline_stages[key][0]):\n",
    "        print(f'{key} : {RailStage.pipeline_stages[key][0]}')"
   ]
  },
  {
   "cell_type": "code",
   "execution_count": null,
   "metadata": {},
   "outputs": [],
   "source": []
  }
 ],
 "metadata": {
  "kernelspec": {
   "display_name": "rail",
   "language": "python",
   "name": "python3"
  },
  "language_info": {
   "codemirror_mode": {
    "name": "ipython",
    "version": 3
   },
   "file_extension": ".py",
   "mimetype": "text/x-python",
   "name": "python",
   "nbconvert_exporter": "python",
   "pygments_lexer": "ipython3",
   "version": "3.11.4"
  },
  "orig_nbformat": 4
 },
 "nbformat": 4,
 "nbformat_minor": 2
}
