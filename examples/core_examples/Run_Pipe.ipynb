{
 "cells": [
  {
   "cell_type": "markdown",
   "id": "ec47ab0a",
   "metadata": {},
   "source": [
    "# Running a Saved RAIL Pipeline\n",
    "\n",
    "author: Eric Charles\n",
    "\n",
    "last run successfully: April 26, 2023"
   ]
  },
  {
   "cell_type": "markdown",
   "id": "ff1c1990",
   "metadata": {},
   "source": [
    " \n",
    "This notebook shows how to:\n",
    "\n",
    "1. Load a pipeline from a saved yaml file\n",
    "\n",
    "2. Run the loaded pipeline"
   ]
  },
  {
   "cell_type": "code",
   "execution_count": null,
   "id": "a29a1b21",
   "metadata": {},
   "outputs": [],
   "source": [
    "import os\n",
    "import ceci\n",
    "from rail.core.utils import find_rail_file\n",
    "flow_file = find_rail_file('examples_data/goldenspike_data/data/pretrained_flow.pkl')\n",
    "os.environ['FLOWDIR'] = os.path.dirname(flow_file)"
   ]
  },
  {
   "cell_type": "code",
   "execution_count": null,
   "id": "2657aca0",
   "metadata": {},
   "outputs": [],
   "source": [
    "p = ceci.Pipeline.read('pipe_example.yml')"
   ]
  },
  {
   "cell_type": "code",
   "execution_count": null,
   "id": "38e445de",
   "metadata": {},
   "outputs": [],
   "source": [
    "p.run()"
   ]
  },
  {
   "cell_type": "markdown",
   "id": "cb8a7120",
   "metadata": {},
   "source": [
    "Yep, that's it."
   ]
  }
 ],
 "metadata": {
  "kernelspec": {
   "display_name": "Python 3 (ipykernel)",
   "language": "python",
   "name": "python3"
  },
  "language_info": {
   "codemirror_mode": {
    "name": "ipython",
    "version": 3
   },
   "file_extension": ".py",
   "mimetype": "text/x-python",
   "name": "python",
   "nbconvert_exporter": "python",
   "pygments_lexer": "ipython3",
   "version": "3.11.4"
  }
 },
 "nbformat": 4,
 "nbformat_minor": 5
}
